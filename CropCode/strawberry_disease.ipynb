{
  "nbformat": 4,
  "nbformat_minor": 0,
  "metadata": {
    "colab": {
      "name": "strawberry_disease.ipynb",
      "provenance": []
    },
    "kernelspec": {
      "name": "python3",
      "display_name": "Python 3"
    }
  },
  "cells": [
    {
      "cell_type": "code",
      "metadata": {
        "colab": {
          "base_uri": "https://localhost:8080/"
        },
        "id": "IKJ7wZbBjm8J",
        "outputId": "6b1893c1-f666-414d-ee77-2c5470bb95fd"
      },
      "source": [
        "from google.colab import drive\n",
        "drive.mount('/content/drive')"
      ],
      "execution_count": null,
      "outputs": [
        {
          "output_type": "stream",
          "text": [
            "Mounted at /content/drive\n"
          ],
          "name": "stdout"
        }
      ]
    },
    {
      "cell_type": "code",
      "metadata": {
        "colab": {
          "base_uri": "https://localhost:8080/"
        },
        "id": "d5zetiGslqy7",
        "outputId": "2b8f68b7-f2ce-4925-a722-00c988fd3b05"
      },
      "source": [
        "cd '/content/drive/My Drive/plant_disease_detection/strawberry'"
      ],
      "execution_count": null,
      "outputs": [
        {
          "output_type": "stream",
          "text": [
            "/content/drive/My Drive/plant_disease_detection/strawberry\n"
          ],
          "name": "stdout"
        }
      ]
    },
    {
      "cell_type": "code",
      "metadata": {
        "colab": {
          "base_uri": "https://localhost:8080/"
        },
        "id": "cSZgtKeBlq1i",
        "outputId": "0cd9c71c-c27c-406f-fbf6-00e91307508e"
      },
      "source": [
        "ls strawberrydata/Strawberry"
      ],
      "execution_count": null,
      "outputs": [
        {
          "output_type": "stream",
          "text": [
            "\u001b[0m\u001b[01;34mPeach___Bacterial_spot\u001b[0m/  \u001b[01;34mStrawberry___healthy\u001b[0m/\n",
            "\u001b[01;34mPeach___healthy\u001b[0m/         \u001b[01;34mStrawberry___Leaf_scorch\u001b[0m/\n"
          ],
          "name": "stdout"
        }
      ]
    },
    {
      "cell_type": "code",
      "metadata": {
        "id": "uO6HzScFlq3s"
      },
      "source": [
        "import numpy as np\n",
        "import pickle\n",
        "import cv2\n",
        "from os import listdir\n",
        "from sklearn.preprocessing import LabelBinarizer\n",
        "from keras.models import Sequential\n",
        "from keras.layers.normalization import BatchNormalization\n",
        "from keras.layers.convolutional import Conv2D\n",
        "from keras.layers.convolutional import MaxPooling2D\n",
        "from keras.layers.core import Activation, Flatten, Dropout, Dense\n",
        "from keras import backend as K\n",
        "from keras.preprocessing.image import ImageDataGenerator\n",
        "from keras.optimizers import Adam\n",
        "from keras.preprocessing import image\n",
        "from keras.preprocessing.image import img_to_array\n",
        "from sklearn.preprocessing import MultiLabelBinarizer\n",
        "from sklearn.model_selection import train_test_split\n",
        "import matplotlib.pyplot as plt"
      ],
      "execution_count": null,
      "outputs": []
    },
    {
      "cell_type": "code",
      "metadata": {
        "colab": {
          "base_uri": "https://localhost:8080/"
        },
        "id": "x-RoPSJ-lq6j",
        "outputId": "0884ef89-829e-4835-fcfc-15f8b5b81b2b"
      },
      "source": [
        "from keras.callbacks import EarlyStopping, ModelCheckpoint\n",
        "early_stop = EarlyStopping(monitor='loss', min_delta=0.001, patience=5, mode='min', verbose=1) \n",
        "checkpoint = ModelCheckpoint('model_best_weights_v2.h5', monitor='loss', verbose=1, save_best_only=True, mode='min', period=1)"
      ],
      "execution_count": null,
      "outputs": [
        {
          "output_type": "stream",
          "text": [
            "WARNING:tensorflow:`period` argument is deprecated. Please use `save_freq` to specify the frequency in number of batches seen.\n"
          ],
          "name": "stdout"
        }
      ]
    },
    {
      "cell_type": "code",
      "metadata": {
        "id": "mdXBy_tKlq_w"
      },
      "source": [
        "EPOCHS = 25\n",
        "INIT_LR = 1e-3\n",
        "BS = 32\n",
        "default_image_size = tuple((256, 256))\n",
        "image_size = 0\n",
        "directory_root = 'strawberrydata'\n",
        "width=256\n",
        "height=256\n",
        "depth=3"
      ],
      "execution_count": null,
      "outputs": []
    },
    {
      "cell_type": "code",
      "metadata": {
        "id": "UIq9coQilrBV"
      },
      "source": [
        "def convert_image_to_array(image_dir):\n",
        "    try:\n",
        "        image = cv2.imread(image_dir)\n",
        "        if image is not None :\n",
        "            image = cv2.resize(image, default_image_size)   \n",
        "            return img_to_array(image)\n",
        "        else :\n",
        "            return np.array([])\n",
        "    except Exception as e:\n",
        "        print(f\"Error : {e}\")\n",
        "        return None"
      ],
      "execution_count": null,
      "outputs": []
    },
    {
      "cell_type": "code",
      "metadata": {
        "colab": {
          "base_uri": "https://localhost:8080/"
        },
        "id": "hs_x3FjklrFc",
        "outputId": "9bc8189f-f66e-4be3-9dd5-ba4823bc6046"
      },
      "source": [
        "image_list, label_list = [], []\n",
        "try:\n",
        "    print(\"[INFO] Loading images ...\")\n",
        "    root_dir = listdir(directory_root)\n",
        "    for directory in root_dir :\n",
        "        # remove .DS_Store from list\n",
        "        if directory == \".DS_Store\" :\n",
        "            root_dir.remove(directory)\n",
        " \n",
        "    for plant_folder in root_dir :\n",
        "        plant_disease_folder_list = listdir(f\"{directory_root}/{plant_folder}\")\n",
        "        \n",
        "        for disease_folder in plant_disease_folder_list :\n",
        "            # remove .DS_Store from list\n",
        "            if disease_folder == \".DS_Store\" :\n",
        "                plant_disease_folder_list.remove(disease_folder)\n",
        " \n",
        "        for plant_disease_folder in plant_disease_folder_list:\n",
        "            print(f\"[INFO] Processing {plant_disease_folder} ...\")\n",
        "            plant_disease_image_list = listdir(f\"{directory_root}/{plant_folder}/{plant_disease_folder}/\")\n",
        "                \n",
        "            for single_plant_disease_image in plant_disease_image_list :\n",
        "                if single_plant_disease_image == \".DS_Store\" :\n",
        "                    plant_disease_image_list.remove(single_plant_disease_image)\n",
        " \n",
        "            for image in plant_disease_image_list[:200]:\n",
        "                image_directory = f\"{directory_root}/{plant_folder}/{plant_disease_folder}/{image}\"\n",
        "                if image_directory.endswith(\".jpg\") == True or image_directory.endswith(\".JPG\") == True:\n",
        "                    image_list.append(convert_image_to_array(image_directory))\n",
        "                    label_list.append(plant_disease_folder)\n",
        "    print(\"[INFO] Image loading completed\")  \n",
        "except Exception as e:\n",
        "    print(f\"Error : {e}\")"
      ],
      "execution_count": null,
      "outputs": [
        {
          "output_type": "stream",
          "text": [
            "[INFO] Loading images ...\n",
            "[INFO] Processing Strawberry___Leaf_scorch ...\n",
            "[INFO] Processing Strawberry___healthy ...\n",
            "[INFO] Processing Peach___healthy ...\n",
            "[INFO] Processing Peach___Bacterial_spot ...\n",
            "[INFO] Image loading completed\n"
          ],
          "name": "stdout"
        }
      ]
    },
    {
      "cell_type": "code",
      "metadata": {
        "id": "MpBa4rxjlrHB"
      },
      "source": [
        "image_size = len(image_list)"
      ],
      "execution_count": null,
      "outputs": []
    },
    {
      "cell_type": "code",
      "metadata": {
        "id": "rNx69fX9lrK8"
      },
      "source": [
        "label_binarizer = LabelBinarizer()\n",
        "image_labels = label_binarizer.fit_transform(label_list)\n",
        "pickle.dump(label_binarizer,open('label_transform.pkl', 'wb'))\n",
        "n_classes = len(label_binarizer.classes_)"
      ],
      "execution_count": null,
      "outputs": []
    },
    {
      "cell_type": "code",
      "metadata": {
        "colab": {
          "base_uri": "https://localhost:8080/"
        },
        "id": "ywd0OHewlrMn",
        "outputId": "0923f31a-d947-4b4c-fe3e-1ab29985aaeb"
      },
      "source": [
        "print(label_binarizer.classes_)"
      ],
      "execution_count": null,
      "outputs": [
        {
          "output_type": "stream",
          "text": [
            "['Peach___Bacterial_spot' 'Peach___healthy' 'Strawberry___Leaf_scorch'\n",
            " 'Strawberry___healthy']\n"
          ],
          "name": "stdout"
        }
      ]
    },
    {
      "cell_type": "code",
      "metadata": {
        "id": "QOk4Kq7olrQm"
      },
      "source": [
        "np_image_list = np.array(image_list, dtype=np.float16) / 225.0"
      ],
      "execution_count": null,
      "outputs": []
    },
    {
      "cell_type": "code",
      "metadata": {
        "colab": {
          "base_uri": "https://localhost:8080/"
        },
        "id": "lUgrHtSOlrVH",
        "outputId": "7e681d19-d6cf-4a8e-95c2-ff80dd697d0a"
      },
      "source": [
        "print(\"[INFO] Spliting data to train, test\")\n",
        "x_train, x_test, y_train, y_test = train_test_split(np_image_list, image_labels, test_size=0.2, random_state = 42)"
      ],
      "execution_count": null,
      "outputs": [
        {
          "output_type": "stream",
          "text": [
            "[INFO] Spliting data to train, test\n"
          ],
          "name": "stdout"
        }
      ]
    },
    {
      "cell_type": "code",
      "metadata": {
        "id": "mUpXMLEclrXn"
      },
      "source": [
        "aug = ImageDataGenerator(\n",
        "    rotation_range=25, width_shift_range=0.1,\n",
        "    height_shift_range=0.1, shear_range=0.2, \n",
        "    zoom_range=0.2,horizontal_flip=True, \n",
        "    fill_mode=\"nearest\")"
      ],
      "execution_count": null,
      "outputs": []
    },
    {
      "cell_type": "code",
      "metadata": {
        "id": "SXj52EBtlrbK"
      },
      "source": [
        "model = Sequential()\n",
        "inputShape = (height, width, depth)\n",
        "chanDim = -1\n",
        "if K.image_data_format() == \"channels_first\":\n",
        "    inputShape = (depth, height, width)\n",
        "    chanDim = 1\n",
        "model.add(Conv2D(32, (3, 3), padding=\"same\",input_shape=inputShape))\n",
        "model.add(Activation(\"relu\"))\n",
        "model.add(BatchNormalization(axis=chanDim))\n",
        "model.add(MaxPooling2D(pool_size=(3, 3)))\n",
        "model.add(Dropout(0.25))\n",
        "model.add(Conv2D(64, (3, 3), padding=\"same\"))\n",
        "model.add(Activation(\"relu\"))\n",
        "model.add(BatchNormalization(axis=chanDim))\n",
        "model.add(Conv2D(64, (3, 3), padding=\"same\"))\n",
        "model.add(Activation(\"relu\"))\n",
        "model.add(BatchNormalization(axis=chanDim))\n",
        "model.add(MaxPooling2D(pool_size=(2, 2)))\n",
        "model.add(Dropout(0.25))\n",
        "model.add(Conv2D(128, (3, 3), padding=\"same\"))\n",
        "model.add(Activation(\"relu\"))\n",
        "model.add(BatchNormalization(axis=chanDim))\n",
        "model.add(Conv2D(128, (3, 3), padding=\"same\"))\n",
        "model.add(Activation(\"relu\"))\n",
        "model.add(BatchNormalization(axis=chanDim))\n",
        "model.add(MaxPooling2D(pool_size=(2, 2)))\n",
        "model.add(Dropout(0.25))\n",
        "model.add(Flatten())\n",
        "model.add(Dense(1024))\n",
        "model.add(Activation(\"relu\"))\n",
        "model.add(BatchNormalization())\n",
        "model.add(Dropout(0.5))\n",
        "model.add(Dense(n_classes))\n",
        "model.add(Activation(\"softmax\"))"
      ],
      "execution_count": null,
      "outputs": []
    },
    {
      "cell_type": "code",
      "metadata": {
        "colab": {
          "base_uri": "https://localhost:8080/"
        },
        "id": "Xi--O5VZlrdn",
        "outputId": "7f16973b-ce47-403f-9865-bba989637c17"
      },
      "source": [
        "model.summary()"
      ],
      "execution_count": null,
      "outputs": [
        {
          "output_type": "stream",
          "text": [
            "Model: \"sequential\"\n",
            "_________________________________________________________________\n",
            "Layer (type)                 Output Shape              Param #   \n",
            "=================================================================\n",
            "conv2d (Conv2D)              (None, 256, 256, 32)      896       \n",
            "_________________________________________________________________\n",
            "activation (Activation)      (None, 256, 256, 32)      0         \n",
            "_________________________________________________________________\n",
            "batch_normalization (BatchNo (None, 256, 256, 32)      128       \n",
            "_________________________________________________________________\n",
            "max_pooling2d (MaxPooling2D) (None, 85, 85, 32)        0         \n",
            "_________________________________________________________________\n",
            "dropout (Dropout)            (None, 85, 85, 32)        0         \n",
            "_________________________________________________________________\n",
            "conv2d_1 (Conv2D)            (None, 85, 85, 64)        18496     \n",
            "_________________________________________________________________\n",
            "activation_1 (Activation)    (None, 85, 85, 64)        0         \n",
            "_________________________________________________________________\n",
            "batch_normalization_1 (Batch (None, 85, 85, 64)        256       \n",
            "_________________________________________________________________\n",
            "conv2d_2 (Conv2D)            (None, 85, 85, 64)        36928     \n",
            "_________________________________________________________________\n",
            "activation_2 (Activation)    (None, 85, 85, 64)        0         \n",
            "_________________________________________________________________\n",
            "batch_normalization_2 (Batch (None, 85, 85, 64)        256       \n",
            "_________________________________________________________________\n",
            "max_pooling2d_1 (MaxPooling2 (None, 42, 42, 64)        0         \n",
            "_________________________________________________________________\n",
            "dropout_1 (Dropout)          (None, 42, 42, 64)        0         \n",
            "_________________________________________________________________\n",
            "conv2d_3 (Conv2D)            (None, 42, 42, 128)       73856     \n",
            "_________________________________________________________________\n",
            "activation_3 (Activation)    (None, 42, 42, 128)       0         \n",
            "_________________________________________________________________\n",
            "batch_normalization_3 (Batch (None, 42, 42, 128)       512       \n",
            "_________________________________________________________________\n",
            "conv2d_4 (Conv2D)            (None, 42, 42, 128)       147584    \n",
            "_________________________________________________________________\n",
            "activation_4 (Activation)    (None, 42, 42, 128)       0         \n",
            "_________________________________________________________________\n",
            "batch_normalization_4 (Batch (None, 42, 42, 128)       512       \n",
            "_________________________________________________________________\n",
            "max_pooling2d_2 (MaxPooling2 (None, 21, 21, 128)       0         \n",
            "_________________________________________________________________\n",
            "dropout_2 (Dropout)          (None, 21, 21, 128)       0         \n",
            "_________________________________________________________________\n",
            "flatten (Flatten)            (None, 56448)             0         \n",
            "_________________________________________________________________\n",
            "dense (Dense)                (None, 1024)              57803776  \n",
            "_________________________________________________________________\n",
            "activation_5 (Activation)    (None, 1024)              0         \n",
            "_________________________________________________________________\n",
            "batch_normalization_5 (Batch (None, 1024)              4096      \n",
            "_________________________________________________________________\n",
            "dropout_3 (Dropout)          (None, 1024)              0         \n",
            "_________________________________________________________________\n",
            "dense_1 (Dense)              (None, 4)                 4100      \n",
            "_________________________________________________________________\n",
            "activation_6 (Activation)    (None, 4)                 0         \n",
            "=================================================================\n",
            "Total params: 58,091,396\n",
            "Trainable params: 58,088,516\n",
            "Non-trainable params: 2,880\n",
            "_________________________________________________________________\n"
          ],
          "name": "stdout"
        }
      ]
    },
    {
      "cell_type": "code",
      "metadata": {
        "colab": {
          "base_uri": "https://localhost:8080/"
        },
        "id": "PlEQ2zonlrg9",
        "outputId": "2cabd8f5-7280-44d4-9dbb-b51cc201645a"
      },
      "source": [
        "opt = Adam(lr=INIT_LR, decay=INIT_LR / EPOCHS)\n",
        "# distribution\n",
        "model.compile(loss=\"binary_crossentropy\", optimizer=opt,metrics=[\"accuracy\"])\n",
        "# train the network\n",
        "print(\"[INFO] training network...\")"
      ],
      "execution_count": null,
      "outputs": [
        {
          "output_type": "stream",
          "text": [
            "[INFO] training network...\n"
          ],
          "name": "stdout"
        }
      ]
    },
    {
      "cell_type": "code",
      "metadata": {
        "colab": {
          "base_uri": "https://localhost:8080/"
        },
        "id": "ehgzZhKslri6",
        "outputId": "2da2713c-bd28-436d-899b-bda710b584fa"
      },
      "source": [
        "history = model.fit_generator(\n",
        "    aug.flow(x_train, y_train, batch_size=BS),\n",
        "    validation_data=(x_test, y_test),\n",
        "    steps_per_epoch=len(x_train) // BS,\n",
        "    epochs=50, verbose=1\n",
        "    )"
      ],
      "execution_count": null,
      "outputs": [
        {
          "output_type": "stream",
          "text": [
            "/usr/local/lib/python3.7/dist-packages/tensorflow/python/keras/engine/training.py:1844: UserWarning: `Model.fit_generator` is deprecated and will be removed in a future version. Please use `Model.fit`, which supports generators.\n",
            "  warnings.warn('`Model.fit_generator` is deprecated and '\n"
          ],
          "name": "stderr"
        },
        {
          "output_type": "stream",
          "text": [
            "Epoch 1/50\n",
            "20/20 [==============================] - 149s 7s/step - loss: 0.6696 - accuracy: 0.7101 - val_loss: 3.1664 - val_accuracy: 0.2812\n",
            "Epoch 2/50\n",
            "20/20 [==============================] - 137s 7s/step - loss: 0.2397 - accuracy: 0.9164 - val_loss: 2.6846 - val_accuracy: 0.2812\n",
            "Epoch 3/50\n",
            "20/20 [==============================] - 137s 7s/step - loss: 0.2237 - accuracy: 0.8929 - val_loss: 5.9239 - val_accuracy: 0.2812\n",
            "Epoch 4/50\n",
            "20/20 [==============================] - 136s 7s/step - loss: 0.1335 - accuracy: 0.9487 - val_loss: 8.6131 - val_accuracy: 0.2812\n",
            "Epoch 5/50\n",
            "20/20 [==============================] - 145s 7s/step - loss: 0.1054 - accuracy: 0.9377 - val_loss: 6.1036 - val_accuracy: 0.2812\n",
            "Epoch 6/50\n",
            "20/20 [==============================] - 137s 7s/step - loss: 0.1162 - accuracy: 0.9433 - val_loss: 6.3276 - val_accuracy: 0.2812\n",
            "Epoch 7/50\n",
            "20/20 [==============================] - 137s 7s/step - loss: 0.0902 - accuracy: 0.9608 - val_loss: 4.3110 - val_accuracy: 0.2812\n",
            "Epoch 8/50\n",
            "20/20 [==============================] - 137s 7s/step - loss: 0.0641 - accuracy: 0.9658 - val_loss: 7.3870 - val_accuracy: 0.2812\n",
            "Epoch 9/50\n",
            "20/20 [==============================] - 137s 7s/step - loss: 0.0782 - accuracy: 0.9618 - val_loss: 6.8504 - val_accuracy: 0.2812\n",
            "Epoch 10/50\n",
            "20/20 [==============================] - 137s 7s/step - loss: 0.1016 - accuracy: 0.9426 - val_loss: 2.8720 - val_accuracy: 0.2875\n",
            "Epoch 11/50\n",
            "20/20 [==============================] - 137s 7s/step - loss: 0.0847 - accuracy: 0.9538 - val_loss: 4.3516 - val_accuracy: 0.2812\n",
            "Epoch 12/50\n",
            "20/20 [==============================] - 137s 7s/step - loss: 0.0707 - accuracy: 0.9606 - val_loss: 4.8070 - val_accuracy: 0.2812\n",
            "Epoch 13/50\n",
            "20/20 [==============================] - 137s 7s/step - loss: 0.0431 - accuracy: 0.9814 - val_loss: 1.9718 - val_accuracy: 0.3875\n",
            "Epoch 14/50\n",
            "20/20 [==============================] - 137s 7s/step - loss: 0.0501 - accuracy: 0.9728 - val_loss: 2.8192 - val_accuracy: 0.2812\n",
            "Epoch 15/50\n",
            "20/20 [==============================] - 137s 7s/step - loss: 0.0442 - accuracy: 0.9745 - val_loss: 2.4617 - val_accuracy: 0.3938\n",
            "Epoch 16/50\n",
            "20/20 [==============================] - 137s 7s/step - loss: 0.0603 - accuracy: 0.9653 - val_loss: 5.4877 - val_accuracy: 0.2812\n",
            "Epoch 17/50\n",
            "20/20 [==============================] - 137s 7s/step - loss: 0.0414 - accuracy: 0.9797 - val_loss: 4.6324 - val_accuracy: 0.2812\n",
            "Epoch 18/50\n",
            "20/20 [==============================] - 137s 7s/step - loss: 0.0330 - accuracy: 0.9807 - val_loss: 5.1294 - val_accuracy: 0.4750\n",
            "Epoch 19/50\n",
            "20/20 [==============================] - 137s 7s/step - loss: 0.0449 - accuracy: 0.9765 - val_loss: 3.6121 - val_accuracy: 0.8125\n",
            "Epoch 20/50\n",
            "20/20 [==============================] - 137s 7s/step - loss: 0.0543 - accuracy: 0.9587 - val_loss: 0.6077 - val_accuracy: 0.7437\n",
            "Epoch 21/50\n",
            "20/20 [==============================] - 137s 7s/step - loss: 0.0418 - accuracy: 0.9718 - val_loss: 0.2173 - val_accuracy: 0.8813\n",
            "Epoch 22/50\n",
            "20/20 [==============================] - 137s 7s/step - loss: 0.0612 - accuracy: 0.9682 - val_loss: 0.3173 - val_accuracy: 0.8500\n",
            "Epoch 23/50\n",
            "20/20 [==============================] - 136s 7s/step - loss: 0.0485 - accuracy: 0.9732 - val_loss: 0.9856 - val_accuracy: 0.6938\n",
            "Epoch 24/50\n",
            "20/20 [==============================] - 136s 7s/step - loss: 0.0316 - accuracy: 0.9855 - val_loss: 0.0772 - val_accuracy: 0.9438\n",
            "Epoch 25/50\n",
            "20/20 [==============================] - 136s 7s/step - loss: 0.0286 - accuracy: 0.9887 - val_loss: 0.0352 - val_accuracy: 0.9875\n",
            "Epoch 26/50\n",
            "20/20 [==============================] - 137s 7s/step - loss: 0.0283 - accuracy: 0.9846 - val_loss: 0.0934 - val_accuracy: 0.9375\n",
            "Epoch 27/50\n",
            "20/20 [==============================] - 137s 7s/step - loss: 0.0209 - accuracy: 0.9877 - val_loss: 0.0699 - val_accuracy: 0.9750\n",
            "Epoch 28/50\n",
            "20/20 [==============================] - 137s 7s/step - loss: 0.0292 - accuracy: 0.9785 - val_loss: 0.1128 - val_accuracy: 0.9250\n",
            "Epoch 29/50\n",
            "20/20 [==============================] - 136s 7s/step - loss: 0.0474 - accuracy: 0.9682 - val_loss: 0.3241 - val_accuracy: 0.8875\n",
            "Epoch 30/50\n",
            "20/20 [==============================] - 136s 7s/step - loss: 0.0539 - accuracy: 0.9775 - val_loss: 0.1719 - val_accuracy: 0.9250\n",
            "Epoch 31/50\n",
            "20/20 [==============================] - 137s 7s/step - loss: 0.0173 - accuracy: 0.9904 - val_loss: 0.0907 - val_accuracy: 0.9187\n",
            "Epoch 32/50\n",
            "20/20 [==============================] - 137s 7s/step - loss: 0.0417 - accuracy: 0.9819 - val_loss: 0.0893 - val_accuracy: 0.9563\n",
            "Epoch 33/50\n",
            "20/20 [==============================] - 137s 7s/step - loss: 0.0203 - accuracy: 0.9880 - val_loss: 0.0398 - val_accuracy: 0.9688\n",
            "Epoch 34/50\n",
            "20/20 [==============================] - 137s 7s/step - loss: 0.0240 - accuracy: 0.9894 - val_loss: 0.0292 - val_accuracy: 0.9812\n",
            "Epoch 35/50\n",
            "20/20 [==============================] - 137s 7s/step - loss: 0.0140 - accuracy: 0.9922 - val_loss: 0.1344 - val_accuracy: 0.9312\n",
            "Epoch 36/50\n",
            "20/20 [==============================] - 138s 7s/step - loss: 0.0221 - accuracy: 0.9838 - val_loss: 0.0322 - val_accuracy: 0.9812\n",
            "Epoch 37/50\n",
            "20/20 [==============================] - 138s 7s/step - loss: 0.0217 - accuracy: 0.9888 - val_loss: 0.0362 - val_accuracy: 0.9812\n",
            "Epoch 38/50\n",
            "20/20 [==============================] - 138s 7s/step - loss: 0.0159 - accuracy: 0.9943 - val_loss: 0.1551 - val_accuracy: 0.9438\n",
            "Epoch 39/50\n",
            "20/20 [==============================] - 137s 7s/step - loss: 0.0320 - accuracy: 0.9831 - val_loss: 0.1553 - val_accuracy: 0.9375\n",
            "Epoch 40/50\n",
            "20/20 [==============================] - 137s 7s/step - loss: 0.0234 - accuracy: 0.9854 - val_loss: 0.0694 - val_accuracy: 0.9563\n",
            "Epoch 41/50\n",
            "20/20 [==============================] - 138s 7s/step - loss: 0.0347 - accuracy: 0.9862 - val_loss: 0.2671 - val_accuracy: 0.9125\n",
            "Epoch 42/50\n",
            "20/20 [==============================] - 138s 7s/step - loss: 0.0241 - accuracy: 0.9965 - val_loss: 0.2691 - val_accuracy: 0.9062\n",
            "Epoch 43/50\n",
            "20/20 [==============================] - 137s 7s/step - loss: 0.0432 - accuracy: 0.9825 - val_loss: 0.0434 - val_accuracy: 0.9750\n",
            "Epoch 44/50\n",
            "20/20 [==============================] - 137s 7s/step - loss: 0.0229 - accuracy: 0.9878 - val_loss: 0.1178 - val_accuracy: 0.9438\n",
            "Epoch 45/50\n",
            "20/20 [==============================] - 137s 7s/step - loss: 0.0174 - accuracy: 0.9942 - val_loss: 0.3451 - val_accuracy: 0.8062\n",
            "Epoch 46/50\n",
            "20/20 [==============================] - 137s 7s/step - loss: 0.0205 - accuracy: 0.9920 - val_loss: 1.1256 - val_accuracy: 0.6938\n",
            "Epoch 47/50\n",
            "20/20 [==============================] - 137s 7s/step - loss: 0.0205 - accuracy: 0.9843 - val_loss: 0.1962 - val_accuracy: 0.8813\n",
            "Epoch 48/50\n",
            "20/20 [==============================] - 137s 7s/step - loss: 0.0257 - accuracy: 0.9925 - val_loss: 0.2045 - val_accuracy: 0.8625\n",
            "Epoch 49/50\n",
            "20/20 [==============================] - 137s 7s/step - loss: 0.0204 - accuracy: 0.9891 - val_loss: 0.0504 - val_accuracy: 0.9688\n",
            "Epoch 50/50\n",
            "20/20 [==============================] - 137s 7s/step - loss: 0.0186 - accuracy: 0.9932 - val_loss: 0.0342 - val_accuracy: 0.9875\n"
          ],
          "name": "stdout"
        }
      ]
    },
    {
      "cell_type": "code",
      "metadata": {
        "colab": {
          "base_uri": "https://localhost:8080/"
        },
        "id": "MVqonL_6lrmS",
        "outputId": "5c620c14-b610-483d-d192-344d129c3840"
      },
      "source": [
        "print(\"[INFO] Calculating model accuracy\")\n",
        "scores = model.evaluate(x_test, y_test)\n",
        "print(f\"Test Accuracy: {scores[1]*100}\")"
      ],
      "execution_count": null,
      "outputs": [
        {
          "output_type": "stream",
          "text": [
            "[INFO] Calculating model accuracy\n",
            "5/5 [==============================] - 7s 1s/step - loss: 0.0342 - accuracy: 0.9875\n",
            "Test Accuracy: 98.7500011920929\n"
          ],
          "name": "stdout"
        }
      ]
    },
    {
      "cell_type": "code",
      "metadata": {
        "colab": {
          "base_uri": "https://localhost:8080/"
        },
        "id": "pYfqgDmxlroO",
        "outputId": "cca9c55d-91dc-494b-98d9-a948f6096d21"
      },
      "source": [
        "print(f\"Test Accuracy: {scores[1]*100}\")"
      ],
      "execution_count": null,
      "outputs": [
        {
          "output_type": "stream",
          "text": [
            "Test Accuracy: 98.7500011920929\n"
          ],
          "name": "stdout"
        }
      ]
    },
    {
      "cell_type": "code",
      "metadata": {
        "id": "pfvxYTbqlrr8"
      },
      "source": [
        "model.save('CNN_strawberry.h5')"
      ],
      "execution_count": null,
      "outputs": []
    },
    {
      "cell_type": "code",
      "metadata": {
        "colab": {
          "base_uri": "https://localhost:8080/",
          "height": 34
        },
        "id": "k2NPYp24lrt0",
        "outputId": "c8cef58b-7bb7-4660-c831-7c3b483e783a"
      },
      "source": [
        "from IPython.display import Image\n",
        "filepath = '/content/drive/My Drive/plant_disease_detection/strawberry/strawberrydata/Strawberry/fe40f496-5ce4-4b41-8359-998677cc124f___RS_L.Scorch 1347.JPG'\n",
        "Image(filepath)"
      ],
      "execution_count": null,
      "outputs": [
        {
          "output_type": "execute_result",
          "data": {
            "image/png": "/content/drive/My Drive/plant_disease_detection/strawberry/strawberrydata/Strawberry/fe40f496-5ce4-4b41-8359-998677cc124f___RS_L.Scorch 1347.JPG",
            "text/plain": [
              "<IPython.core.display.Image object>"
            ]
          },
          "metadata": {
            "tags": []
          },
          "execution_count": 34
        }
      ]
    },
    {
      "cell_type": "code",
      "metadata": {
        "colab": {
          "base_uri": "https://localhost:8080/",
          "height": 231
        },
        "id": "V6iOlSitlrw7",
        "outputId": "67135a88-6ab1-47e3-d696-9882b57fb90a"
      },
      "source": [
        "import numpy as np\n",
        "from keras.preprocessing import image\n",
        "test_image = convert_image_to_array(filepath)\n",
        "test_image = np.array(test_image, dtype=np.float16) / 225.0\n",
        "result = model.predict(test_image.reshape(1,256,256,3))\n",
        "result = np.argmax(result,axis=1)\n",
        "pred = label_binarizer.classes_[result[0]]\n",
        "\n",
        "print(\"Predicted - \"+pred)"
      ],
      "execution_count": null,
      "outputs": [
        {
          "output_type": "error",
          "ename": "ValueError",
          "evalue": "ignored",
          "traceback": [
            "\u001b[0;31m---------------------------------------------------------------------------\u001b[0m",
            "\u001b[0;31mValueError\u001b[0m                                Traceback (most recent call last)",
            "\u001b[0;32m<ipython-input-35-34121cfd8f6f>\u001b[0m in \u001b[0;36m<module>\u001b[0;34m()\u001b[0m\n\u001b[1;32m      3\u001b[0m \u001b[0mtest_image\u001b[0m \u001b[0;34m=\u001b[0m \u001b[0mconvert_image_to_array\u001b[0m\u001b[0;34m(\u001b[0m\u001b[0mfilepath\u001b[0m\u001b[0;34m)\u001b[0m\u001b[0;34m\u001b[0m\u001b[0;34m\u001b[0m\u001b[0m\n\u001b[1;32m      4\u001b[0m \u001b[0mtest_image\u001b[0m \u001b[0;34m=\u001b[0m \u001b[0mnp\u001b[0m\u001b[0;34m.\u001b[0m\u001b[0marray\u001b[0m\u001b[0;34m(\u001b[0m\u001b[0mtest_image\u001b[0m\u001b[0;34m,\u001b[0m \u001b[0mdtype\u001b[0m\u001b[0;34m=\u001b[0m\u001b[0mnp\u001b[0m\u001b[0;34m.\u001b[0m\u001b[0mfloat16\u001b[0m\u001b[0;34m)\u001b[0m \u001b[0;34m/\u001b[0m \u001b[0;36m225.0\u001b[0m\u001b[0;34m\u001b[0m\u001b[0;34m\u001b[0m\u001b[0m\n\u001b[0;32m----> 5\u001b[0;31m \u001b[0mresult\u001b[0m \u001b[0;34m=\u001b[0m \u001b[0mmodel\u001b[0m\u001b[0;34m.\u001b[0m\u001b[0mpredict\u001b[0m\u001b[0;34m(\u001b[0m\u001b[0mtest_image\u001b[0m\u001b[0;34m.\u001b[0m\u001b[0mreshape\u001b[0m\u001b[0;34m(\u001b[0m\u001b[0;36m1\u001b[0m\u001b[0;34m,\u001b[0m\u001b[0;36m256\u001b[0m\u001b[0;34m,\u001b[0m\u001b[0;36m256\u001b[0m\u001b[0;34m,\u001b[0m\u001b[0;36m3\u001b[0m\u001b[0;34m)\u001b[0m\u001b[0;34m)\u001b[0m\u001b[0;34m\u001b[0m\u001b[0;34m\u001b[0m\u001b[0m\n\u001b[0m\u001b[1;32m      6\u001b[0m \u001b[0mresult\u001b[0m \u001b[0;34m=\u001b[0m \u001b[0mnp\u001b[0m\u001b[0;34m.\u001b[0m\u001b[0margmax\u001b[0m\u001b[0;34m(\u001b[0m\u001b[0mresult\u001b[0m\u001b[0;34m,\u001b[0m\u001b[0maxis\u001b[0m\u001b[0;34m=\u001b[0m\u001b[0;36m1\u001b[0m\u001b[0;34m)\u001b[0m\u001b[0;34m\u001b[0m\u001b[0;34m\u001b[0m\u001b[0m\n\u001b[1;32m      7\u001b[0m \u001b[0mpred\u001b[0m \u001b[0;34m=\u001b[0m \u001b[0mlabel_binarizer\u001b[0m\u001b[0;34m.\u001b[0m\u001b[0mclasses_\u001b[0m\u001b[0;34m[\u001b[0m\u001b[0mresult\u001b[0m\u001b[0;34m[\u001b[0m\u001b[0;36m0\u001b[0m\u001b[0;34m]\u001b[0m\u001b[0;34m]\u001b[0m\u001b[0;34m\u001b[0m\u001b[0;34m\u001b[0m\u001b[0m\n",
            "\u001b[0;31mValueError\u001b[0m: cannot reshape array of size 0 into shape (1,256,256,3)"
          ]
        }
      ]
    },
    {
      "cell_type": "code",
      "metadata": {
        "id": "CaRnBfK8lryd"
      },
      "source": [
        ""
      ],
      "execution_count": null,
      "outputs": []
    },
    {
      "cell_type": "code",
      "metadata": {
        "id": "a9xTMVAxlr2x"
      },
      "source": [
        ""
      ],
      "execution_count": null,
      "outputs": []
    },
    {
      "cell_type": "markdown",
      "metadata": {
        "id": "Uk_jGUtAITnQ"
      },
      "source": [
        "TEST"
      ]
    },
    {
      "cell_type": "code",
      "metadata": {
        "colab": {
          "base_uri": "https://localhost:8080/"
        },
        "id": "ham3G_8alr4h",
        "outputId": "5daaaa7e-c74a-4c92-bbad-4c0bf37f8ce2"
      },
      "source": [
        "from google.colab import drive\n",
        "drive.mount('/content/drive')"
      ],
      "execution_count": null,
      "outputs": [
        {
          "output_type": "stream",
          "text": [
            "Drive already mounted at /content/drive; to attempt to forcibly remount, call drive.mount(\"/content/drive\", force_remount=True).\n"
          ],
          "name": "stdout"
        }
      ]
    },
    {
      "cell_type": "code",
      "metadata": {
        "colab": {
          "base_uri": "https://localhost:8080/"
        },
        "id": "y7D5LG3elr7E",
        "outputId": "13e2dda7-e717-4e82-8d11-6c3ad7f1afea"
      },
      "source": [
        "cd '/content/drive/My Drive/plant_disease_detection/strawberry'"
      ],
      "execution_count": null,
      "outputs": [
        {
          "output_type": "stream",
          "text": [
            "/content/drive/My Drive/plant_disease_detection/strawberry\n"
          ],
          "name": "stdout"
        }
      ]
    },
    {
      "cell_type": "code",
      "metadata": {
        "id": "EKOIgRQNlr9G"
      },
      "source": [
        "from keras.models import load_model\n",
        "import numpy as np\n",
        "import pickle\n",
        "import cv2\n",
        "from os import listdir\n",
        "from sklearn.preprocessing import LabelBinarizer\n",
        "from keras.models import Sequential\n",
        "from keras.layers.normalization import BatchNormalization\n",
        "from keras.layers.convolutional import Conv2D\n",
        "from keras.layers.convolutional import MaxPooling2D\n",
        "from keras.layers.core import Activation, Flatten, Dropout, Dense\n",
        "from keras import backend as K\n",
        "from keras.preprocessing.image import ImageDataGenerator\n",
        "from keras.optimizers import Adam\n",
        "from keras.preprocessing import image\n",
        "from keras.preprocessing.image import img_to_array\n",
        "from sklearn.preprocessing import MultiLabelBinarizer\n",
        "from sklearn.model_selection import train_test_split\n",
        "import matplotlib.pyplot as plt"
      ],
      "execution_count": null,
      "outputs": []
    },
    {
      "cell_type": "code",
      "metadata": {
        "id": "WTCiLN1llsAw"
      },
      "source": [
        "default_image_size = tuple((256,256))\n",
        "def convert_image_to_array(image_dir):\n",
        "    try:\n",
        "        image = cv2.imread(image_dir)\n",
        "        if image is not None :\n",
        "            image = cv2.resize(image, default_image_size)   \n",
        "            return img_to_array(image)\n",
        "        else :\n",
        "            return np.array([])\n",
        "    except Exception as e:\n",
        "        print(f\"Error : {e}\")\n",
        "        return None"
      ],
      "execution_count": null,
      "outputs": []
    },
    {
      "cell_type": "code",
      "metadata": {
        "id": "Fq190zRilsDy"
      },
      "source": [
        "label_binarizer = pickle.load(open('label_transform.pkl','rb'))"
      ],
      "execution_count": null,
      "outputs": []
    },
    {
      "cell_type": "code",
      "metadata": {
        "colab": {
          "base_uri": "https://localhost:8080/"
        },
        "id": "hjGmANQCIl6X",
        "outputId": "1cd52684-bf32-466b-ef3f-9d75232112b1"
      },
      "source": [
        "ls"
      ],
      "execution_count": null,
      "outputs": [
        {
          "output_type": "stream",
          "text": [
            "CNN_strawberry.h5  label_transform.pkl  \u001b[0m\u001b[01;34mstrawberrydata\u001b[0m/\n"
          ],
          "name": "stdout"
        }
      ]
    },
    {
      "cell_type": "code",
      "metadata": {
        "id": "3e6ftnfRIl7u"
      },
      "source": [
        "from keras.models import load_model\n",
        "model = load_model('/content/drive/My Drive/plant_disease_detection/strawberry/CNN_strawberry.h5')"
      ],
      "execution_count": null,
      "outputs": []
    },
    {
      "cell_type": "code",
      "metadata": {
        "colab": {
          "base_uri": "https://localhost:8080/",
          "height": 34
        },
        "id": "UALHARsfIl_R",
        "outputId": "e342e583-4051-409c-eb94-d35d76111e06"
      },
      "source": [
        "from IPython.display import Image\n",
        "filepath = '/content/drive/My Drive/plant_disease_detection/strawberry/strawberrydata/Strawberry/fd0a1743-a0a6-4f1e-b5ab-7f3af0d33a15___RS_L.Scorch 1598.JPG'\n",
        "Image(filepath)"
      ],
      "execution_count": null,
      "outputs": [
        {
          "output_type": "execute_result",
          "data": {
            "image/png": "/content/drive/My Drive/plant_disease_detection/strawberry/strawberrydata/Strawberry/fd0a1743-a0a6-4f1e-b5ab-7f3af0d33a15___RS_L.Scorch 1598.JPG",
            "text/plain": [
              "<IPython.core.display.Image object>"
            ]
          },
          "metadata": {
            "tags": []
          },
          "execution_count": 48
        }
      ]
    },
    {
      "cell_type": "code",
      "metadata": {
        "colab": {
          "base_uri": "https://localhost:8080/",
          "height": 231
        },
        "id": "8rH01yp8ImAq",
        "outputId": "c3350564-ea81-4ef5-f196-3f448645f3d1"
      },
      "source": [
        "import numpy as np\n",
        "from keras.preprocessing import image\n",
        "test_image = convert_image_to_array(filepath)\n",
        "test_image = np.array(test_image, dtype=np.float16) / 225.0\n",
        "result = model.predict(test_image.reshape(1,256,256,3))\n",
        "result = np.argmax(result,axis=1)\n",
        "pred = label_binarizer.classes_[result[0]]\n",
        "\n",
        "print(\"Predicted - \"+pred)"
      ],
      "execution_count": null,
      "outputs": [
        {
          "output_type": "error",
          "ename": "ValueError",
          "evalue": "ignored",
          "traceback": [
            "\u001b[0;31m---------------------------------------------------------------------------\u001b[0m",
            "\u001b[0;31mValueError\u001b[0m                                Traceback (most recent call last)",
            "\u001b[0;32m<ipython-input-47-34121cfd8f6f>\u001b[0m in \u001b[0;36m<module>\u001b[0;34m()\u001b[0m\n\u001b[1;32m      3\u001b[0m \u001b[0mtest_image\u001b[0m \u001b[0;34m=\u001b[0m \u001b[0mconvert_image_to_array\u001b[0m\u001b[0;34m(\u001b[0m\u001b[0mfilepath\u001b[0m\u001b[0;34m)\u001b[0m\u001b[0;34m\u001b[0m\u001b[0;34m\u001b[0m\u001b[0m\n\u001b[1;32m      4\u001b[0m \u001b[0mtest_image\u001b[0m \u001b[0;34m=\u001b[0m \u001b[0mnp\u001b[0m\u001b[0;34m.\u001b[0m\u001b[0marray\u001b[0m\u001b[0;34m(\u001b[0m\u001b[0mtest_image\u001b[0m\u001b[0;34m,\u001b[0m \u001b[0mdtype\u001b[0m\u001b[0;34m=\u001b[0m\u001b[0mnp\u001b[0m\u001b[0;34m.\u001b[0m\u001b[0mfloat16\u001b[0m\u001b[0;34m)\u001b[0m \u001b[0;34m/\u001b[0m \u001b[0;36m225.0\u001b[0m\u001b[0;34m\u001b[0m\u001b[0;34m\u001b[0m\u001b[0m\n\u001b[0;32m----> 5\u001b[0;31m \u001b[0mresult\u001b[0m \u001b[0;34m=\u001b[0m \u001b[0mmodel\u001b[0m\u001b[0;34m.\u001b[0m\u001b[0mpredict\u001b[0m\u001b[0;34m(\u001b[0m\u001b[0mtest_image\u001b[0m\u001b[0;34m.\u001b[0m\u001b[0mreshape\u001b[0m\u001b[0;34m(\u001b[0m\u001b[0;36m1\u001b[0m\u001b[0;34m,\u001b[0m\u001b[0;36m256\u001b[0m\u001b[0;34m,\u001b[0m\u001b[0;36m256\u001b[0m\u001b[0;34m,\u001b[0m\u001b[0;36m3\u001b[0m\u001b[0;34m)\u001b[0m\u001b[0;34m)\u001b[0m\u001b[0;34m\u001b[0m\u001b[0;34m\u001b[0m\u001b[0m\n\u001b[0m\u001b[1;32m      6\u001b[0m \u001b[0mresult\u001b[0m \u001b[0;34m=\u001b[0m \u001b[0mnp\u001b[0m\u001b[0;34m.\u001b[0m\u001b[0margmax\u001b[0m\u001b[0;34m(\u001b[0m\u001b[0mresult\u001b[0m\u001b[0;34m,\u001b[0m\u001b[0maxis\u001b[0m\u001b[0;34m=\u001b[0m\u001b[0;36m1\u001b[0m\u001b[0;34m)\u001b[0m\u001b[0;34m\u001b[0m\u001b[0;34m\u001b[0m\u001b[0m\n\u001b[1;32m      7\u001b[0m \u001b[0mpred\u001b[0m \u001b[0;34m=\u001b[0m \u001b[0mlabel_binarizer\u001b[0m\u001b[0;34m.\u001b[0m\u001b[0mclasses_\u001b[0m\u001b[0;34m[\u001b[0m\u001b[0mresult\u001b[0m\u001b[0;34m[\u001b[0m\u001b[0;36m0\u001b[0m\u001b[0;34m]\u001b[0m\u001b[0;34m]\u001b[0m\u001b[0;34m\u001b[0m\u001b[0;34m\u001b[0m\u001b[0m\n",
            "\u001b[0;31mValueError\u001b[0m: cannot reshape array of size 0 into shape (1,256,256,3)"
          ]
        }
      ]
    },
    {
      "cell_type": "code",
      "metadata": {
        "id": "i1qjKy6pImDi"
      },
      "source": [
        ""
      ],
      "execution_count": null,
      "outputs": []
    },
    {
      "cell_type": "code",
      "metadata": {
        "id": "EobabjZHImE8"
      },
      "source": [
        ""
      ],
      "execution_count": null,
      "outputs": []
    },
    {
      "cell_type": "code",
      "metadata": {
        "id": "U6AnRjAXImII"
      },
      "source": [
        ""
      ],
      "execution_count": null,
      "outputs": []
    },
    {
      "cell_type": "code",
      "metadata": {
        "id": "X0mXQNOxImLE"
      },
      "source": [
        ""
      ],
      "execution_count": null,
      "outputs": []
    }
  ]
}