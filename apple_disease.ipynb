{
  "nbformat": 4,
  "nbformat_minor": 0,
  "metadata": {
    "colab": {
      "name": "apple_disease.ipynb",
      "provenance": []
    },
    "kernelspec": {
      "name": "python3",
      "display_name": "Python 3"
    }
  },
  "cells": [
    {
      "cell_type": "code",
      "metadata": {
        "colab": {
          "base_uri": "https://localhost:8080/"
        },
        "id": "t2NIyG0h7mPZ",
        "outputId": "e0eb4595-af7c-45bd-fb80-be19216bea12"
      },
      "source": [
        "from google.colab import drive\n",
        "drive.mount('/content/drive')"
      ],
      "execution_count": null,
      "outputs": [
        {
          "output_type": "stream",
          "text": [
            "Mounted at /content/drive\n"
          ],
          "name": "stdout"
        }
      ]
    },
    {
      "cell_type": "code",
      "metadata": {
        "colab": {
          "base_uri": "https://localhost:8080/"
        },
        "id": "wTwVArvI7sdv",
        "outputId": "79b62f49-4889-40d3-e957-fe5093dd54d0"
      },
      "source": [
        "cd '/content/drive/My Drive/plant_disease_detection/apple'"
      ],
      "execution_count": null,
      "outputs": [
        {
          "output_type": "stream",
          "text": [
            "/content/drive/.shortcut-targets-by-id/1m0IGHkaDGDFqYJN-kaYjAf2eBNA-jgvF/plant_disease_detection/apple\n"
          ],
          "name": "stdout"
        }
      ]
    },
    {
      "cell_type": "code",
      "metadata": {
        "colab": {
          "base_uri": "https://localhost:8080/"
        },
        "id": "TuVCcrQf71xf",
        "outputId": "987df373-582d-4633-f73a-feae3007913a"
      },
      "source": [
        "ls appledata/Apple"
      ],
      "execution_count": null,
      "outputs": [
        {
          "output_type": "stream",
          "text": [
            "\u001b[0m\u001b[01;34mApple___Apple_scab\u001b[0m/  \u001b[01;34mApple___Cedar_apple_rust\u001b[0m/\n",
            "\u001b[01;34mApple___Black_rot\u001b[0m/   \u001b[01;34mApple___healthy\u001b[0m/\n"
          ],
          "name": "stdout"
        }
      ]
    },
    {
      "cell_type": "code",
      "metadata": {
        "id": "u9ydsdIv74nA"
      },
      "source": [
        "import numpy as np\n",
        "import pickle\n",
        "import cv2\n",
        "from os import listdir\n",
        "from sklearn.preprocessing import LabelBinarizer\n",
        "from keras.models import Sequential\n",
        "from keras.layers.normalization import BatchNormalization\n",
        "from keras.layers.convolutional import Conv2D\n",
        "from keras.layers.convolutional import MaxPooling2D\n",
        "from keras.layers.core import Activation, Flatten, Dropout, Dense\n",
        "from keras import backend as K\n",
        "from keras.preprocessing.image import ImageDataGenerator\n",
        "from keras.optimizers import Adam\n",
        "from keras.preprocessing import image\n",
        "from keras.preprocessing.image import img_to_array\n",
        "from sklearn.preprocessing import MultiLabelBinarizer\n",
        "from sklearn.model_selection import train_test_split\n",
        "import matplotlib.pyplot as plt"
      ],
      "execution_count": null,
      "outputs": []
    },
    {
      "cell_type": "code",
      "metadata": {
        "colab": {
          "base_uri": "https://localhost:8080/"
        },
        "id": "raV2-ien7886",
        "outputId": "fb9f5f2a-9dfa-4900-d909-67082dc4a4b8"
      },
      "source": [
        "from keras.callbacks import EarlyStopping, ModelCheckpoint\n",
        "early_stop = EarlyStopping(monitor='loss', min_delta=0.001, patience=5, mode='min', verbose=1) \n",
        "checkpoint = ModelCheckpoint('model_best_weights_v2.h5', monitor='loss', verbose=1, save_best_only=True, mode='min', period=1)"
      ],
      "execution_count": null,
      "outputs": [
        {
          "output_type": "stream",
          "text": [
            "WARNING:tensorflow:`period` argument is deprecated. Please use `save_freq` to specify the frequency in number of batches seen.\n"
          ],
          "name": "stdout"
        }
      ]
    },
    {
      "cell_type": "code",
      "metadata": {
        "id": "eB1SuOTF8BHP"
      },
      "source": [
        "EPOCHS = 25\n",
        "INIT_LR = 1e-3\n",
        "BS = 32\n",
        "default_image_size = tuple((256, 256))\n",
        "image_size = 0\n",
        "directory_root = 'appledata'\n",
        "width=256\n",
        "height=256\n",
        "depth=3"
      ],
      "execution_count": null,
      "outputs": []
    },
    {
      "cell_type": "code",
      "metadata": {
        "id": "gU4Anx4u8DyZ"
      },
      "source": [
        "def convert_image_to_array(image_dir):\n",
        "    try:\n",
        "        image = cv2.imread(image_dir)\n",
        "        if image is not None :\n",
        "            image = cv2.resize(image, default_image_size)   \n",
        "            return img_to_array(image)\n",
        "        else :\n",
        "            return np.array([])\n",
        "    except Exception as e:\n",
        "        print(f\"Error : {e}\")\n",
        "        return None"
      ],
      "execution_count": null,
      "outputs": []
    },
    {
      "cell_type": "code",
      "metadata": {
        "colab": {
          "base_uri": "https://localhost:8080/"
        },
        "id": "AP9FftL08HpS",
        "outputId": "902a4d9b-e7c9-4cab-e61f-ed864ae9fddb"
      },
      "source": [
        "image_list, label_list = [], []\n",
        "try:\n",
        "    print(\"[INFO] Loading images ...\")\n",
        "    root_dir = listdir(directory_root)\n",
        "    for directory in root_dir :\n",
        "        # remove .DS_Store from list\n",
        "        if directory == \".DS_Store\" :\n",
        "            root_dir.remove(directory)\n",
        " \n",
        "    for plant_folder in root_dir :\n",
        "        plant_disease_folder_list = listdir(f\"{directory_root}/{plant_folder}\")\n",
        "        \n",
        "        for disease_folder in plant_disease_folder_list :\n",
        "            # remove .DS_Store from list\n",
        "            if disease_folder == \".DS_Store\" :\n",
        "                plant_disease_folder_list.remove(disease_folder)\n",
        " \n",
        "        for plant_disease_folder in plant_disease_folder_list:\n",
        "            print(f\"[INFO] Processing {plant_disease_folder} ...\")\n",
        "            plant_disease_image_list = listdir(f\"{directory_root}/{plant_folder}/{plant_disease_folder}/\")\n",
        "                \n",
        "            for single_plant_disease_image in plant_disease_image_list :\n",
        "                if single_plant_disease_image == \".DS_Store\" :\n",
        "                    plant_disease_image_list.remove(single_plant_disease_image)\n",
        " \n",
        "            for image in plant_disease_image_list[:200]:\n",
        "                image_directory = f\"{directory_root}/{plant_folder}/{plant_disease_folder}/{image}\"\n",
        "                if image_directory.endswith(\".jpg\") == True or image_directory.endswith(\".JPG\") == True:\n",
        "                    image_list.append(convert_image_to_array(image_directory))\n",
        "                    label_list.append(plant_disease_folder)\n",
        "    print(\"[INFO] Image loading completed\")  \n",
        "except Exception as e:\n",
        "    print(f\"Error : {e}\")"
      ],
      "execution_count": null,
      "outputs": [
        {
          "output_type": "stream",
          "text": [
            "[INFO] Loading images ...\n",
            "[INFO] Processing Apple___Apple_scab ...\n",
            "[INFO] Processing Apple___Black_rot ...\n",
            "[INFO] Processing Apple___Cedar_apple_rust ...\n",
            "[INFO] Processing Apple___healthy ...\n",
            "[INFO] Image loading completed\n"
          ],
          "name": "stdout"
        }
      ]
    },
    {
      "cell_type": "code",
      "metadata": {
        "id": "uqyZweSp8LaM"
      },
      "source": [
        "image_size = len(image_list)"
      ],
      "execution_count": null,
      "outputs": []
    },
    {
      "cell_type": "code",
      "metadata": {
        "id": "581WJHOV8OEM"
      },
      "source": [
        "label_binarizer = LabelBinarizer()\n",
        "image_labels = label_binarizer.fit_transform(label_list)\n",
        "pickle.dump(label_binarizer,open('label_transform.pkl', 'wb'))\n",
        "n_classes = len(label_binarizer.classes_)"
      ],
      "execution_count": null,
      "outputs": []
    },
    {
      "cell_type": "code",
      "metadata": {
        "colab": {
          "base_uri": "https://localhost:8080/"
        },
        "id": "JrbQhEwH8Qnd",
        "outputId": "723fb5eb-f832-4045-f745-b207ebba56ee"
      },
      "source": [
        "print(label_binarizer.classes_)"
      ],
      "execution_count": null,
      "outputs": [
        {
          "output_type": "stream",
          "text": [
            "['Apple___Apple_scab' 'Apple___Black_rot' 'Apple___Cedar_apple_rust'\n",
            " 'Apple___healthy']\n"
          ],
          "name": "stdout"
        }
      ]
    },
    {
      "cell_type": "code",
      "metadata": {
        "id": "VwA-KPH48TQt"
      },
      "source": [
        "np_image_list = np.array(image_list, dtype=np.float16) / 225.0"
      ],
      "execution_count": null,
      "outputs": []
    },
    {
      "cell_type": "code",
      "metadata": {
        "colab": {
          "base_uri": "https://localhost:8080/"
        },
        "id": "mqNVLMZi8V9b",
        "outputId": "66687cda-dc84-4728-8aca-05484fe6f23a"
      },
      "source": [
        "print(\"[INFO] Spliting data to train, test\")\n",
        "x_train, x_test, y_train, y_test = train_test_split(np_image_list, image_labels, test_size=0.2, random_state = 42)"
      ],
      "execution_count": null,
      "outputs": [
        {
          "output_type": "stream",
          "text": [
            "[INFO] Spliting data to train, test\n"
          ],
          "name": "stdout"
        }
      ]
    },
    {
      "cell_type": "code",
      "metadata": {
        "id": "vtu2XNHK8ZUO"
      },
      "source": [
        "aug = ImageDataGenerator(\n",
        "    rotation_range=25, width_shift_range=0.1,\n",
        "    height_shift_range=0.1, shear_range=0.2, \n",
        "    zoom_range=0.2,horizontal_flip=True, \n",
        "    fill_mode=\"nearest\")"
      ],
      "execution_count": null,
      "outputs": []
    },
    {
      "cell_type": "code",
      "metadata": {
        "id": "Zgp4TSVk8cB0"
      },
      "source": [
        "model = Sequential()\n",
        "inputShape = (height, width, depth)\n",
        "chanDim = -1\n",
        "if K.image_data_format() == \"channels_first\":\n",
        "    inputShape = (depth, height, width)\n",
        "    chanDim = 1\n",
        "model.add(Conv2D(32, (3, 3), padding=\"same\",input_shape=inputShape))\n",
        "model.add(Activation(\"relu\"))\n",
        "model.add(BatchNormalization(axis=chanDim))\n",
        "model.add(MaxPooling2D(pool_size=(3, 3)))\n",
        "model.add(Dropout(0.25))\n",
        "model.add(Conv2D(64, (3, 3), padding=\"same\"))\n",
        "model.add(Activation(\"relu\"))\n",
        "model.add(BatchNormalization(axis=chanDim))\n",
        "model.add(Conv2D(64, (3, 3), padding=\"same\"))\n",
        "model.add(Activation(\"relu\"))\n",
        "model.add(BatchNormalization(axis=chanDim))\n",
        "model.add(MaxPooling2D(pool_size=(2, 2)))\n",
        "model.add(Dropout(0.25))\n",
        "model.add(Conv2D(128, (3, 3), padding=\"same\"))\n",
        "model.add(Activation(\"relu\"))\n",
        "model.add(BatchNormalization(axis=chanDim))\n",
        "model.add(Conv2D(128, (3, 3), padding=\"same\"))\n",
        "model.add(Activation(\"relu\"))\n",
        "model.add(BatchNormalization(axis=chanDim))\n",
        "model.add(MaxPooling2D(pool_size=(2, 2)))\n",
        "model.add(Dropout(0.25))\n",
        "model.add(Flatten())\n",
        "model.add(Dense(1024))\n",
        "model.add(Activation(\"relu\"))\n",
        "model.add(BatchNormalization())\n",
        "model.add(Dropout(0.5))\n",
        "model.add(Dense(n_classes))\n",
        "model.add(Activation(\"softmax\"))"
      ],
      "execution_count": null,
      "outputs": []
    },
    {
      "cell_type": "code",
      "metadata": {
        "colab": {
          "base_uri": "https://localhost:8080/"
        },
        "id": "nTqeJQrJ8fvE",
        "outputId": "46c6731c-e7d2-4fd1-ae91-2cd494edb065"
      },
      "source": [
        "model.summary()"
      ],
      "execution_count": null,
      "outputs": [
        {
          "output_type": "stream",
          "text": [
            "Model: \"sequential\"\n",
            "_________________________________________________________________\n",
            "Layer (type)                 Output Shape              Param #   \n",
            "=================================================================\n",
            "conv2d (Conv2D)              (None, 256, 256, 32)      896       \n",
            "_________________________________________________________________\n",
            "activation (Activation)      (None, 256, 256, 32)      0         \n",
            "_________________________________________________________________\n",
            "batch_normalization (BatchNo (None, 256, 256, 32)      128       \n",
            "_________________________________________________________________\n",
            "max_pooling2d (MaxPooling2D) (None, 85, 85, 32)        0         \n",
            "_________________________________________________________________\n",
            "dropout (Dropout)            (None, 85, 85, 32)        0         \n",
            "_________________________________________________________________\n",
            "conv2d_1 (Conv2D)            (None, 85, 85, 64)        18496     \n",
            "_________________________________________________________________\n",
            "activation_1 (Activation)    (None, 85, 85, 64)        0         \n",
            "_________________________________________________________________\n",
            "batch_normalization_1 (Batch (None, 85, 85, 64)        256       \n",
            "_________________________________________________________________\n",
            "conv2d_2 (Conv2D)            (None, 85, 85, 64)        36928     \n",
            "_________________________________________________________________\n",
            "activation_2 (Activation)    (None, 85, 85, 64)        0         \n",
            "_________________________________________________________________\n",
            "batch_normalization_2 (Batch (None, 85, 85, 64)        256       \n",
            "_________________________________________________________________\n",
            "max_pooling2d_1 (MaxPooling2 (None, 42, 42, 64)        0         \n",
            "_________________________________________________________________\n",
            "dropout_1 (Dropout)          (None, 42, 42, 64)        0         \n",
            "_________________________________________________________________\n",
            "conv2d_3 (Conv2D)            (None, 42, 42, 128)       73856     \n",
            "_________________________________________________________________\n",
            "activation_3 (Activation)    (None, 42, 42, 128)       0         \n",
            "_________________________________________________________________\n",
            "batch_normalization_3 (Batch (None, 42, 42, 128)       512       \n",
            "_________________________________________________________________\n",
            "conv2d_4 (Conv2D)            (None, 42, 42, 128)       147584    \n",
            "_________________________________________________________________\n",
            "activation_4 (Activation)    (None, 42, 42, 128)       0         \n",
            "_________________________________________________________________\n",
            "batch_normalization_4 (Batch (None, 42, 42, 128)       512       \n",
            "_________________________________________________________________\n",
            "max_pooling2d_2 (MaxPooling2 (None, 21, 21, 128)       0         \n",
            "_________________________________________________________________\n",
            "dropout_2 (Dropout)          (None, 21, 21, 128)       0         \n",
            "_________________________________________________________________\n",
            "flatten (Flatten)            (None, 56448)             0         \n",
            "_________________________________________________________________\n",
            "dense (Dense)                (None, 1024)              57803776  \n",
            "_________________________________________________________________\n",
            "activation_5 (Activation)    (None, 1024)              0         \n",
            "_________________________________________________________________\n",
            "batch_normalization_5 (Batch (None, 1024)              4096      \n",
            "_________________________________________________________________\n",
            "dropout_3 (Dropout)          (None, 1024)              0         \n",
            "_________________________________________________________________\n",
            "dense_1 (Dense)              (None, 4)                 4100      \n",
            "_________________________________________________________________\n",
            "activation_6 (Activation)    (None, 4)                 0         \n",
            "=================================================================\n",
            "Total params: 58,091,396\n",
            "Trainable params: 58,088,516\n",
            "Non-trainable params: 2,880\n",
            "_________________________________________________________________\n"
          ],
          "name": "stdout"
        }
      ]
    },
    {
      "cell_type": "code",
      "metadata": {
        "colab": {
          "base_uri": "https://localhost:8080/"
        },
        "id": "AA_QQxiZ8iS3",
        "outputId": "dffe5f73-d315-444b-ec12-3e2323088825"
      },
      "source": [
        "opt = Adam(lr=INIT_LR, decay=INIT_LR / EPOCHS)\n",
        "# distribution\n",
        "model.compile(loss=\"binary_crossentropy\", optimizer=opt,metrics=[\"accuracy\"])\n",
        "# train the network\n",
        "print(\"[INFO] training network...\")"
      ],
      "execution_count": null,
      "outputs": [
        {
          "output_type": "stream",
          "text": [
            "[INFO] training network...\n"
          ],
          "name": "stdout"
        }
      ]
    },
    {
      "cell_type": "code",
      "metadata": {
        "colab": {
          "base_uri": "https://localhost:8080/"
        },
        "id": "MjqGwMEu8lV9",
        "outputId": "8d481f39-70bd-45f9-e4c2-85bc70b11481"
      },
      "source": [
        "history = model.fit_generator(\n",
        "    aug.flow(x_train, y_train, batch_size=BS),\n",
        "    validation_data=(x_test, y_test),\n",
        "    steps_per_epoch=len(x_train) // BS,\n",
        "    epochs=50, verbose=1\n",
        "    )"
      ],
      "execution_count": null,
      "outputs": [
        {
          "output_type": "stream",
          "text": [
            "/usr/local/lib/python3.7/dist-packages/tensorflow/python/keras/engine/training.py:1844: UserWarning: `Model.fit_generator` is deprecated and will be removed in a future version. Please use `Model.fit`, which supports generators.\n",
            "  warnings.warn('`Model.fit_generator` is deprecated and '\n"
          ],
          "name": "stderr"
        },
        {
          "output_type": "stream",
          "text": [
            "Epoch 1/50\n",
            "20/20 [==============================] - 147s 7s/step - loss: 0.8588 - accuracy: 0.5890 - val_loss: 1.5565 - val_accuracy: 0.2188\n",
            "Epoch 2/50\n",
            "20/20 [==============================] - 143s 7s/step - loss: 0.3720 - accuracy: 0.8475 - val_loss: 2.0298 - val_accuracy: 0.2188\n",
            "Epoch 3/50\n",
            "20/20 [==============================] - 142s 7s/step - loss: 0.2582 - accuracy: 0.8860 - val_loss: 1.5680 - val_accuracy: 0.2500\n",
            "Epoch 4/50\n",
            "20/20 [==============================] - 141s 7s/step - loss: 0.2116 - accuracy: 0.8959 - val_loss: 2.2521 - val_accuracy: 0.2188\n",
            "Epoch 5/50\n",
            "20/20 [==============================] - 146s 7s/step - loss: 0.1950 - accuracy: 0.9057 - val_loss: 2.9099 - val_accuracy: 0.2188\n",
            "Epoch 6/50\n",
            "20/20 [==============================] - 141s 7s/step - loss: 0.1323 - accuracy: 0.9362 - val_loss: 2.4611 - val_accuracy: 0.2688\n",
            "Epoch 7/50\n",
            "20/20 [==============================] - 141s 7s/step - loss: 0.1585 - accuracy: 0.9130 - val_loss: 3.5692 - val_accuracy: 0.2750\n",
            "Epoch 8/50\n",
            "20/20 [==============================] - 140s 7s/step - loss: 0.1312 - accuracy: 0.9344 - val_loss: 3.2598 - val_accuracy: 0.2688\n",
            "Epoch 9/50\n",
            "20/20 [==============================] - 140s 7s/step - loss: 0.1081 - accuracy: 0.9613 - val_loss: 4.2559 - val_accuracy: 0.2188\n",
            "Epoch 10/50\n",
            "20/20 [==============================] - 150s 8s/step - loss: 0.1365 - accuracy: 0.9388 - val_loss: 3.9710 - val_accuracy: 0.2188\n",
            "Epoch 11/50\n",
            "20/20 [==============================] - 141s 7s/step - loss: 0.0992 - accuracy: 0.9569 - val_loss: 4.1719 - val_accuracy: 0.3562\n",
            "Epoch 12/50\n",
            "20/20 [==============================] - 141s 7s/step - loss: 0.0736 - accuracy: 0.9613 - val_loss: 3.4026 - val_accuracy: 0.3625\n",
            "Epoch 13/50\n",
            "20/20 [==============================] - 141s 7s/step - loss: 0.0890 - accuracy: 0.9507 - val_loss: 3.9880 - val_accuracy: 0.3938\n",
            "Epoch 14/50\n",
            "20/20 [==============================] - 147s 7s/step - loss: 0.0899 - accuracy: 0.9513 - val_loss: 5.3750 - val_accuracy: 0.2562\n",
            "Epoch 15/50\n",
            "20/20 [==============================] - 142s 7s/step - loss: 0.0931 - accuracy: 0.9492 - val_loss: 3.5791 - val_accuracy: 0.3250\n",
            "Epoch 16/50\n",
            "20/20 [==============================] - 141s 7s/step - loss: 0.0643 - accuracy: 0.9687 - val_loss: 3.5390 - val_accuracy: 0.3750\n",
            "Epoch 17/50\n",
            "20/20 [==============================] - 142s 7s/step - loss: 0.0629 - accuracy: 0.9711 - val_loss: 4.1768 - val_accuracy: 0.3187\n",
            "Epoch 18/50\n",
            "20/20 [==============================] - 148s 7s/step - loss: 0.0682 - accuracy: 0.9610 - val_loss: 3.3146 - val_accuracy: 0.4250\n",
            "Epoch 19/50\n",
            "20/20 [==============================] - 141s 7s/step - loss: 0.0748 - accuracy: 0.9549 - val_loss: 3.0780 - val_accuracy: 0.4812\n",
            "Epoch 20/50\n",
            "20/20 [==============================] - 142s 7s/step - loss: 0.0505 - accuracy: 0.9740 - val_loss: 2.7170 - val_accuracy: 0.4625\n",
            "Epoch 21/50\n",
            "20/20 [==============================] - 141s 7s/step - loss: 0.0584 - accuracy: 0.9715 - val_loss: 2.4130 - val_accuracy: 0.5063\n",
            "Epoch 22/50\n",
            "20/20 [==============================] - 142s 7s/step - loss: 0.0526 - accuracy: 0.9660 - val_loss: 1.7689 - val_accuracy: 0.4812\n",
            "Epoch 23/50\n",
            "20/20 [==============================] - 143s 7s/step - loss: 0.0706 - accuracy: 0.9661 - val_loss: 3.3610 - val_accuracy: 0.4688\n",
            "Epoch 24/50\n",
            "20/20 [==============================] - 145s 7s/step - loss: 0.0495 - accuracy: 0.9789 - val_loss: 0.7340 - val_accuracy: 0.7500\n",
            "Epoch 25/50\n",
            "20/20 [==============================] - 142s 7s/step - loss: 0.0756 - accuracy: 0.9675 - val_loss: 1.5869 - val_accuracy: 0.5750\n",
            "Epoch 26/50\n",
            "20/20 [==============================] - 141s 7s/step - loss: 0.0380 - accuracy: 0.9868 - val_loss: 1.0914 - val_accuracy: 0.6625\n",
            "Epoch 27/50\n",
            "20/20 [==============================] - 142s 7s/step - loss: 0.0379 - accuracy: 0.9835 - val_loss: 1.2875 - val_accuracy: 0.6000\n",
            "Epoch 28/50\n",
            "20/20 [==============================] - 141s 7s/step - loss: 0.0693 - accuracy: 0.9519 - val_loss: 2.3523 - val_accuracy: 0.5312\n",
            "Epoch 29/50\n",
            "20/20 [==============================] - 141s 7s/step - loss: 0.0479 - accuracy: 0.9716 - val_loss: 0.9041 - val_accuracy: 0.6687\n",
            "Epoch 30/50\n",
            "20/20 [==============================] - 141s 7s/step - loss: 0.0295 - accuracy: 0.9896 - val_loss: 0.2562 - val_accuracy: 0.8375\n",
            "Epoch 31/50\n",
            "20/20 [==============================] - 149s 7s/step - loss: 0.0392 - accuracy: 0.9806 - val_loss: 0.2294 - val_accuracy: 0.8938\n",
            "Epoch 32/50\n",
            "20/20 [==============================] - 142s 7s/step - loss: 0.0254 - accuracy: 0.9924 - val_loss: 0.2259 - val_accuracy: 0.8875\n",
            "Epoch 33/50\n",
            "20/20 [==============================] - 141s 7s/step - loss: 0.0645 - accuracy: 0.9622 - val_loss: 0.1910 - val_accuracy: 0.8938\n",
            "Epoch 34/50\n",
            "20/20 [==============================] - 141s 7s/step - loss: 0.0491 - accuracy: 0.9809 - val_loss: 0.1472 - val_accuracy: 0.9000\n",
            "Epoch 35/50\n",
            "20/20 [==============================] - 142s 7s/step - loss: 0.0417 - accuracy: 0.9843 - val_loss: 0.4604 - val_accuracy: 0.7875\n",
            "Epoch 36/50\n",
            "20/20 [==============================] - 141s 7s/step - loss: 0.0589 - accuracy: 0.9698 - val_loss: 0.1672 - val_accuracy: 0.8875\n",
            "Epoch 37/50\n",
            "20/20 [==============================] - 141s 7s/step - loss: 0.0253 - accuracy: 0.9923 - val_loss: 0.1130 - val_accuracy: 0.9438\n",
            "Epoch 38/50\n",
            "20/20 [==============================] - 148s 7s/step - loss: 0.0378 - accuracy: 0.9833 - val_loss: 0.1293 - val_accuracy: 0.9000\n",
            "Epoch 39/50\n",
            "20/20 [==============================] - 142s 7s/step - loss: 0.0484 - accuracy: 0.9672 - val_loss: 0.0330 - val_accuracy: 0.9750\n",
            "Epoch 40/50\n",
            "20/20 [==============================] - 141s 7s/step - loss: 0.0317 - accuracy: 0.9839 - val_loss: 0.0624 - val_accuracy: 0.9563\n",
            "Epoch 41/50\n",
            "20/20 [==============================] - 141s 7s/step - loss: 0.0151 - accuracy: 0.9975 - val_loss: 0.1702 - val_accuracy: 0.9312\n",
            "Epoch 42/50\n",
            "20/20 [==============================] - 140s 7s/step - loss: 0.0272 - accuracy: 0.9862 - val_loss: 0.0620 - val_accuracy: 0.9500\n",
            "Epoch 43/50\n",
            "20/20 [==============================] - 142s 7s/step - loss: 0.0345 - accuracy: 0.9791 - val_loss: 0.0988 - val_accuracy: 0.9375\n",
            "Epoch 44/50\n",
            "20/20 [==============================] - 141s 7s/step - loss: 0.0309 - accuracy: 0.9850 - val_loss: 0.1091 - val_accuracy: 0.9500\n",
            "Epoch 45/50\n",
            "20/20 [==============================] - 142s 7s/step - loss: 0.0267 - accuracy: 0.9847 - val_loss: 0.1103 - val_accuracy: 0.9312\n",
            "Epoch 46/50\n",
            "20/20 [==============================] - 141s 7s/step - loss: 0.0323 - accuracy: 0.9858 - val_loss: 0.2305 - val_accuracy: 0.8875\n",
            "Epoch 47/50\n",
            "20/20 [==============================] - 141s 7s/step - loss: 0.0560 - accuracy: 0.9703 - val_loss: 0.1212 - val_accuracy: 0.9125\n",
            "Epoch 48/50\n",
            "20/20 [==============================] - 142s 7s/step - loss: 0.0546 - accuracy: 0.9582 - val_loss: 0.6742 - val_accuracy: 0.6812\n",
            "Epoch 49/50\n",
            "20/20 [==============================] - 141s 7s/step - loss: 0.0308 - accuracy: 0.9830 - val_loss: 1.1288 - val_accuracy: 0.5625\n",
            "Epoch 50/50\n",
            "20/20 [==============================] - 142s 7s/step - loss: 0.0238 - accuracy: 0.9924 - val_loss: 0.2733 - val_accuracy: 0.8125\n"
          ],
          "name": "stdout"
        }
      ]
    },
    {
      "cell_type": "code",
      "metadata": {
        "colab": {
          "base_uri": "https://localhost:8080/"
        },
        "id": "NYo6dFrg8n0o",
        "outputId": "13577bff-90c1-4457-f88f-22c5e7f86a77"
      },
      "source": [
        "print(\"[INFO] Calculating model accuracy\")\n",
        "scores = model.evaluate(x_test, y_test)\n",
        "print(f\"Test Accuracy: {scores[1]*100}\")"
      ],
      "execution_count": null,
      "outputs": [
        {
          "output_type": "stream",
          "text": [
            "[INFO] Calculating model accuracy\n",
            "5/5 [==============================] - 7s 1s/step - loss: 0.2733 - accuracy: 0.8125\n",
            "Test Accuracy: 81.25\n"
          ],
          "name": "stdout"
        }
      ]
    },
    {
      "cell_type": "code",
      "metadata": {
        "colab": {
          "base_uri": "https://localhost:8080/"
        },
        "id": "Gwdfk3mi8qzu",
        "outputId": "8bf9a076-aceb-48c3-8afc-7bb941155bae"
      },
      "source": [
        "print(f\"Test Accuracy: {scores[1]*100}\")"
      ],
      "execution_count": null,
      "outputs": [
        {
          "output_type": "stream",
          "text": [
            "Test Accuracy: 81.25\n"
          ],
          "name": "stdout"
        }
      ]
    },
    {
      "cell_type": "code",
      "metadata": {
        "id": "3EQhHsPg8tGn"
      },
      "source": [
        "model.save('CNN_apple.h5')"
      ],
      "execution_count": null,
      "outputs": []
    }
  ]
}