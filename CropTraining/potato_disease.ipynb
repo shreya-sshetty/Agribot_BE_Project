{
  "nbformat": 4,
  "nbformat_minor": 0,
  "metadata": {
    "colab": {
      "name": "potato_disease.ipynb",
      "provenance": []
    },
    "kernelspec": {
      "name": "python3",
      "display_name": "Python 3"
    }
  },
  "cells": [
    {
      "cell_type": "code",
      "metadata": {
        "colab": {
          "base_uri": "https://localhost:8080/"
        },
        "id": "o7dGnWawhzjh",
        "outputId": "f35ad517-d904-43a9-e7ee-9acd6c38225d"
      },
      "source": [
        "from google.colab import drive\n",
        "drive.mount('/content/drive')"
      ],
      "execution_count": null,
      "outputs": [
        {
          "output_type": "stream",
          "text": [
            "Mounted at /content/drive\n"
          ],
          "name": "stdout"
        }
      ]
    },
    {
      "cell_type": "code",
      "metadata": {
        "colab": {
          "base_uri": "https://localhost:8080/"
        },
        "id": "CUTtb9Xsh4H2",
        "outputId": "15f85680-c40d-4549-fb7e-a6ecd6f00b30"
      },
      "source": [
        "cd '/content/drive/My Drive/plant_disease_detection/potato' "
      ],
      "execution_count": null,
      "outputs": [
        {
          "output_type": "stream",
          "text": [
            "/content/drive/My Drive/plant_disease_detection/potato\n"
          ],
          "name": "stdout"
        }
      ]
    },
    {
      "cell_type": "code",
      "metadata": {
        "colab": {
          "base_uri": "https://localhost:8080/"
        },
        "id": "7tAH9Cbph4Jc",
        "outputId": "8f05b8a4-2cfc-4f56-eec3-ac67a804e738"
      },
      "source": [
        "ls potatodata/Potato"
      ],
      "execution_count": null,
      "outputs": [
        {
          "output_type": "stream",
          "text": [
            "\u001b[0m\u001b[01;34mPotato___Early_blight\u001b[0m/  \u001b[01;34mPotato___healthy\u001b[0m/  \u001b[01;34mPotato___Late_blight\u001b[0m/\n"
          ],
          "name": "stdout"
        }
      ]
    },
    {
      "cell_type": "code",
      "metadata": {
        "id": "UiTr4K24h4My"
      },
      "source": [
        "import numpy as np\n",
        "import pickle\n",
        "import cv2\n",
        "from os import listdir\n",
        "from sklearn.preprocessing import LabelBinarizer\n",
        "from keras.models import Sequential\n",
        "from keras.layers.normalization import BatchNormalization\n",
        "from keras.layers.convolutional import Conv2D\n",
        "from keras.layers.convolutional import MaxPooling2D\n",
        "from keras.layers.core import Activation, Flatten, Dropout, Dense\n",
        "from keras import backend as K\n",
        "from keras.preprocessing.image import ImageDataGenerator\n",
        "from keras.optimizers import Adam\n",
        "from keras.preprocessing import image\n",
        "from keras.preprocessing.image import img_to_array\n",
        "from sklearn.preprocessing import MultiLabelBinarizer\n",
        "from sklearn.model_selection import train_test_split\n",
        "import matplotlib.pyplot as plt"
      ],
      "execution_count": null,
      "outputs": []
    },
    {
      "cell_type": "code",
      "metadata": {
        "colab": {
          "base_uri": "https://localhost:8080/"
        },
        "id": "oOyR6Cpah4Ob",
        "outputId": "a84b3fce-0736-49e9-8178-16baa56ce24e"
      },
      "source": [
        "from keras.callbacks import EarlyStopping, ModelCheckpoint\n",
        "early_stop = EarlyStopping(monitor='loss', min_delta=0.001, patience=5, mode='min', verbose=1) \n",
        "checkpoint = ModelCheckpoint('model_best_weights_v2.h5', monitor='loss', verbose=1, save_best_only=True, mode='min', period=1)"
      ],
      "execution_count": null,
      "outputs": [
        {
          "output_type": "stream",
          "text": [
            "WARNING:tensorflow:`period` argument is deprecated. Please use `save_freq` to specify the frequency in number of batches seen.\n"
          ],
          "name": "stdout"
        }
      ]
    },
    {
      "cell_type": "code",
      "metadata": {
        "id": "lL5WjK7Jh4R4"
      },
      "source": [
        "EPOCHS = 25\n",
        "INIT_LR = 1e-3\n",
        "BS = 32\n",
        "default_image_size = tuple((256, 256))\n",
        "image_size = 0\n",
        "directory_root = 'potatodata'\n",
        "width=256\n",
        "height=256\n",
        "depth=3"
      ],
      "execution_count": null,
      "outputs": []
    },
    {
      "cell_type": "code",
      "metadata": {
        "id": "Id_ghqeUh4Tf"
      },
      "source": [
        "def convert_image_to_array(image_dir):\n",
        "    try:\n",
        "        image = cv2.imread(image_dir)\n",
        "        if image is not None :\n",
        "            image = cv2.resize(image, default_image_size)   \n",
        "            return img_to_array(image)\n",
        "        else :\n",
        "            return np.array([])\n",
        "    except Exception as e:\n",
        "        print(f\"Error : {e}\")\n",
        "        return None"
      ],
      "execution_count": null,
      "outputs": []
    },
    {
      "cell_type": "code",
      "metadata": {
        "colab": {
          "base_uri": "https://localhost:8080/"
        },
        "id": "iccted_qh4We",
        "outputId": "fb5d8aa9-fd4b-4bbc-ca25-6536ebd4b51f"
      },
      "source": [
        "image_list, label_list = [], []\n",
        "try:\n",
        "    print(\"[INFO] Loading images ...\")\n",
        "    root_dir = listdir(directory_root)\n",
        "    for directory in root_dir :\n",
        "        # remove .DS_Store from list\n",
        "        if directory == \".DS_Store\" :\n",
        "            root_dir.remove(directory)\n",
        " \n",
        "    for plant_folder in root_dir :\n",
        "        plant_disease_folder_list = listdir(f\"{directory_root}/{plant_folder}\")\n",
        "        \n",
        "        for disease_folder in plant_disease_folder_list :\n",
        "            # remove .DS_Store from list\n",
        "            if disease_folder == \".DS_Store\" :\n",
        "                plant_disease_folder_list.remove(disease_folder)\n",
        " \n",
        "        for plant_disease_folder in plant_disease_folder_list:\n",
        "            print(f\"[INFO] Processing {plant_disease_folder} ...\")\n",
        "            plant_disease_image_list = listdir(f\"{directory_root}/{plant_folder}/{plant_disease_folder}/\")\n",
        "                \n",
        "            for single_plant_disease_image in plant_disease_image_list :\n",
        "                if single_plant_disease_image == \".DS_Store\" :\n",
        "                    plant_disease_image_list.remove(single_plant_disease_image)\n",
        " \n",
        "            for image in plant_disease_image_list[:200]:\n",
        "                image_directory = f\"{directory_root}/{plant_folder}/{plant_disease_folder}/{image}\"\n",
        "                if image_directory.endswith(\".jpg\") == True or image_directory.endswith(\".JPG\") == True:\n",
        "                    image_list.append(convert_image_to_array(image_directory))\n",
        "                    label_list.append(plant_disease_folder)\n",
        "    print(\"[INFO] Image loading completed\")  \n",
        "except Exception as e:\n",
        "    print(f\"Error : {e}\")"
      ],
      "execution_count": null,
      "outputs": [
        {
          "output_type": "stream",
          "text": [
            "[INFO] Loading images ...\n",
            "[INFO] Processing Potato___Early_blight ...\n",
            "[INFO] Processing Potato___healthy ...\n",
            "[INFO] Processing Potato___Late_blight ...\n",
            "[INFO] Image loading completed\n"
          ],
          "name": "stdout"
        }
      ]
    },
    {
      "cell_type": "code",
      "metadata": {
        "id": "Zc0fCk2Yh4X8"
      },
      "source": [
        "image_size = len(image_list)"
      ],
      "execution_count": null,
      "outputs": []
    },
    {
      "cell_type": "code",
      "metadata": {
        "id": "MWoMiV34h4bI"
      },
      "source": [
        "label_binarizer = LabelBinarizer()\n",
        "image_labels = label_binarizer.fit_transform(label_list)\n",
        "pickle.dump(label_binarizer,open('label_transform.pkl', 'wb'))\n",
        "n_classes = len(label_binarizer.classes_)"
      ],
      "execution_count": null,
      "outputs": []
    },
    {
      "cell_type": "code",
      "metadata": {
        "colab": {
          "base_uri": "https://localhost:8080/"
        },
        "id": "TJS7tXt2h4cr",
        "outputId": "9ff7dd61-bdf6-4454-a92e-bfdba9109332"
      },
      "source": [
        "print(label_binarizer.classes_)"
      ],
      "execution_count": null,
      "outputs": [
        {
          "output_type": "stream",
          "text": [
            "['Potato___Early_blight' 'Potato___Late_blight' 'Potato___healthy']\n"
          ],
          "name": "stdout"
        }
      ]
    },
    {
      "cell_type": "code",
      "metadata": {
        "id": "ZRhluqlvh4fk"
      },
      "source": [
        "np_image_list = np.array(image_list, dtype=np.float16) / 225.0"
      ],
      "execution_count": null,
      "outputs": []
    },
    {
      "cell_type": "code",
      "metadata": {
        "colab": {
          "base_uri": "https://localhost:8080/"
        },
        "id": "OhMr6u45h4hY",
        "outputId": "eaf71c3d-e633-46bb-fa6a-5156d939d41d"
      },
      "source": [
        "print(\"[INFO] Spliting data to train, test\")\n",
        "x_train, x_test, y_train, y_test = train_test_split(np_image_list, image_labels, test_size=0.2, random_state = 42)"
      ],
      "execution_count": null,
      "outputs": [
        {
          "output_type": "stream",
          "text": [
            "[INFO] Spliting data to train, test\n"
          ],
          "name": "stdout"
        }
      ]
    },
    {
      "cell_type": "code",
      "metadata": {
        "id": "ubqM1lych4k0"
      },
      "source": [
        "aug = ImageDataGenerator(\n",
        "    rotation_range=25, width_shift_range=0.1,\n",
        "    height_shift_range=0.1, shear_range=0.2, \n",
        "    zoom_range=0.2,horizontal_flip=True, \n",
        "    fill_mode=\"nearest\")"
      ],
      "execution_count": null,
      "outputs": []
    },
    {
      "cell_type": "code",
      "metadata": {
        "id": "XINbYwa_h4mo"
      },
      "source": [
        "model = Sequential()\n",
        "inputShape = (height, width, depth)\n",
        "chanDim = -1\n",
        "if K.image_data_format() == \"channels_first\":\n",
        "    inputShape = (depth, height, width)\n",
        "    chanDim = 1\n",
        "model.add(Conv2D(32, (3, 3), padding=\"same\",input_shape=inputShape))\n",
        "model.add(Activation(\"relu\"))\n",
        "model.add(BatchNormalization(axis=chanDim))\n",
        "model.add(MaxPooling2D(pool_size=(3, 3)))\n",
        "model.add(Dropout(0.25))\n",
        "model.add(Conv2D(64, (3, 3), padding=\"same\"))\n",
        "model.add(Activation(\"relu\"))\n",
        "model.add(BatchNormalization(axis=chanDim))\n",
        "model.add(Conv2D(64, (3, 3), padding=\"same\"))\n",
        "model.add(Activation(\"relu\"))\n",
        "model.add(BatchNormalization(axis=chanDim))\n",
        "model.add(MaxPooling2D(pool_size=(2, 2)))\n",
        "model.add(Dropout(0.25))\n",
        "model.add(Conv2D(128, (3, 3), padding=\"same\"))\n",
        "model.add(Activation(\"relu\"))\n",
        "model.add(BatchNormalization(axis=chanDim))\n",
        "model.add(Conv2D(128, (3, 3), padding=\"same\"))\n",
        "model.add(Activation(\"relu\"))\n",
        "model.add(BatchNormalization(axis=chanDim))\n",
        "model.add(MaxPooling2D(pool_size=(2, 2)))\n",
        "model.add(Dropout(0.25))\n",
        "model.add(Flatten())\n",
        "model.add(Dense(1024))\n",
        "model.add(Activation(\"relu\"))\n",
        "model.add(BatchNormalization())\n",
        "model.add(Dropout(0.5))\n",
        "model.add(Dense(n_classes))\n",
        "model.add(Activation(\"softmax\"))"
      ],
      "execution_count": null,
      "outputs": []
    },
    {
      "cell_type": "code",
      "metadata": {
        "colab": {
          "base_uri": "https://localhost:8080/"
        },
        "id": "d7b4Lf6rieb0",
        "outputId": "7cc52ede-14f7-42b1-d164-5de06ad9cab3"
      },
      "source": [
        "model.summary()"
      ],
      "execution_count": null,
      "outputs": [
        {
          "output_type": "stream",
          "text": [
            "Model: \"sequential\"\n",
            "_________________________________________________________________\n",
            "Layer (type)                 Output Shape              Param #   \n",
            "=================================================================\n",
            "conv2d (Conv2D)              (None, 256, 256, 32)      896       \n",
            "_________________________________________________________________\n",
            "activation (Activation)      (None, 256, 256, 32)      0         \n",
            "_________________________________________________________________\n",
            "batch_normalization (BatchNo (None, 256, 256, 32)      128       \n",
            "_________________________________________________________________\n",
            "max_pooling2d (MaxPooling2D) (None, 85, 85, 32)        0         \n",
            "_________________________________________________________________\n",
            "dropout (Dropout)            (None, 85, 85, 32)        0         \n",
            "_________________________________________________________________\n",
            "conv2d_1 (Conv2D)            (None, 85, 85, 64)        18496     \n",
            "_________________________________________________________________\n",
            "activation_1 (Activation)    (None, 85, 85, 64)        0         \n",
            "_________________________________________________________________\n",
            "batch_normalization_1 (Batch (None, 85, 85, 64)        256       \n",
            "_________________________________________________________________\n",
            "conv2d_2 (Conv2D)            (None, 85, 85, 64)        36928     \n",
            "_________________________________________________________________\n",
            "activation_2 (Activation)    (None, 85, 85, 64)        0         \n",
            "_________________________________________________________________\n",
            "batch_normalization_2 (Batch (None, 85, 85, 64)        256       \n",
            "_________________________________________________________________\n",
            "max_pooling2d_1 (MaxPooling2 (None, 42, 42, 64)        0         \n",
            "_________________________________________________________________\n",
            "dropout_1 (Dropout)          (None, 42, 42, 64)        0         \n",
            "_________________________________________________________________\n",
            "conv2d_3 (Conv2D)            (None, 42, 42, 128)       73856     \n",
            "_________________________________________________________________\n",
            "activation_3 (Activation)    (None, 42, 42, 128)       0         \n",
            "_________________________________________________________________\n",
            "batch_normalization_3 (Batch (None, 42, 42, 128)       512       \n",
            "_________________________________________________________________\n",
            "conv2d_4 (Conv2D)            (None, 42, 42, 128)       147584    \n",
            "_________________________________________________________________\n",
            "activation_4 (Activation)    (None, 42, 42, 128)       0         \n",
            "_________________________________________________________________\n",
            "batch_normalization_4 (Batch (None, 42, 42, 128)       512       \n",
            "_________________________________________________________________\n",
            "max_pooling2d_2 (MaxPooling2 (None, 21, 21, 128)       0         \n",
            "_________________________________________________________________\n",
            "dropout_2 (Dropout)          (None, 21, 21, 128)       0         \n",
            "_________________________________________________________________\n",
            "flatten (Flatten)            (None, 56448)             0         \n",
            "_________________________________________________________________\n",
            "dense (Dense)                (None, 1024)              57803776  \n",
            "_________________________________________________________________\n",
            "activation_5 (Activation)    (None, 1024)              0         \n",
            "_________________________________________________________________\n",
            "batch_normalization_5 (Batch (None, 1024)              4096      \n",
            "_________________________________________________________________\n",
            "dropout_3 (Dropout)          (None, 1024)              0         \n",
            "_________________________________________________________________\n",
            "dense_1 (Dense)              (None, 3)                 3075      \n",
            "_________________________________________________________________\n",
            "activation_6 (Activation)    (None, 3)                 0         \n",
            "=================================================================\n",
            "Total params: 58,090,371\n",
            "Trainable params: 58,087,491\n",
            "Non-trainable params: 2,880\n",
            "_________________________________________________________________\n"
          ],
          "name": "stdout"
        }
      ]
    },
    {
      "cell_type": "code",
      "metadata": {
        "colab": {
          "base_uri": "https://localhost:8080/"
        },
        "id": "MZ9KDDHviedj",
        "outputId": "4dd7ef53-f830-4b5b-d9a8-161afe34ff88"
      },
      "source": [
        "opt = Adam(lr=INIT_LR, decay=INIT_LR / EPOCHS)\n",
        "# distribution\n",
        "model.compile(loss=\"binary_crossentropy\", optimizer=opt,metrics=[\"accuracy\"])\n",
        "# train the network\n",
        "print(\"[INFO] training network...\")"
      ],
      "execution_count": null,
      "outputs": [
        {
          "output_type": "stream",
          "text": [
            "[INFO] training network...\n"
          ],
          "name": "stdout"
        }
      ]
    },
    {
      "cell_type": "code",
      "metadata": {
        "colab": {
          "base_uri": "https://localhost:8080/"
        },
        "id": "ofgKQpUtiegf",
        "outputId": "6017d029-98cf-497f-d3c8-d6a733842cb4"
      },
      "source": [
        "history = model.fit_generator(\n",
        "    aug.flow(x_train, y_train, batch_size=BS),\n",
        "    validation_data=(x_test, y_test),\n",
        "    steps_per_epoch=len(x_train) // BS,\n",
        "    epochs=50, verbose=1\n",
        "    )"
      ],
      "execution_count": null,
      "outputs": [
        {
          "output_type": "stream",
          "text": [
            "/usr/local/lib/python3.7/dist-packages/tensorflow/python/keras/engine/training.py:1844: UserWarning: `Model.fit_generator` is deprecated and will be removed in a future version. Please use `Model.fit`, which supports generators.\n",
            "  warnings.warn('`Model.fit_generator` is deprecated and '\n"
          ],
          "name": "stderr"
        },
        {
          "output_type": "stream",
          "text": [
            "Epoch 1/50\n",
            "13/13 [==============================] - 95s 7s/step - loss: 0.6458 - accuracy: 0.7093 - val_loss: 2.2727 - val_accuracy: 0.3514\n",
            "Epoch 2/50\n",
            "13/13 [==============================] - 81s 6s/step - loss: 0.2566 - accuracy: 0.9024 - val_loss: 4.7780 - val_accuracy: 0.3514\n",
            "Epoch 3/50\n",
            "13/13 [==============================] - 80s 6s/step - loss: 0.1786 - accuracy: 0.9395 - val_loss: 3.6748 - val_accuracy: 0.3514\n",
            "Epoch 4/50\n",
            "13/13 [==============================] - 80s 6s/step - loss: 0.1307 - accuracy: 0.9459 - val_loss: 3.2783 - val_accuracy: 0.3514\n",
            "Epoch 5/50\n",
            "13/13 [==============================] - 81s 6s/step - loss: 0.1379 - accuracy: 0.9498 - val_loss: 4.5649 - val_accuracy: 0.3514\n",
            "Epoch 6/50\n",
            "13/13 [==============================] - 80s 6s/step - loss: 0.2265 - accuracy: 0.9195 - val_loss: 5.1753 - val_accuracy: 0.3514\n",
            "Epoch 7/50\n",
            "13/13 [==============================] - 80s 6s/step - loss: 0.0956 - accuracy: 0.9641 - val_loss: 6.0763 - val_accuracy: 0.3514\n",
            "Epoch 8/50\n",
            "13/13 [==============================] - 80s 6s/step - loss: 0.0823 - accuracy: 0.9689 - val_loss: 7.5261 - val_accuracy: 0.3514\n",
            "Epoch 9/50\n",
            "13/13 [==============================] - 80s 6s/step - loss: 0.1115 - accuracy: 0.9421 - val_loss: 7.4914 - val_accuracy: 0.3514\n",
            "Epoch 10/50\n",
            "13/13 [==============================] - 81s 6s/step - loss: 0.0817 - accuracy: 0.9603 - val_loss: 6.9179 - val_accuracy: 0.3514\n",
            "Epoch 11/50\n",
            "13/13 [==============================] - 80s 6s/step - loss: 0.1622 - accuracy: 0.9116 - val_loss: 4.0281 - val_accuracy: 0.3514\n",
            "Epoch 12/50\n",
            "13/13 [==============================] - 80s 6s/step - loss: 0.0807 - accuracy: 0.9542 - val_loss: 4.7501 - val_accuracy: 0.3514\n",
            "Epoch 13/50\n",
            "13/13 [==============================] - 81s 6s/step - loss: 0.1126 - accuracy: 0.9483 - val_loss: 7.1128 - val_accuracy: 0.3514\n",
            "Epoch 14/50\n",
            "13/13 [==============================] - 81s 6s/step - loss: 0.0634 - accuracy: 0.9798 - val_loss: 6.4353 - val_accuracy: 0.3514\n",
            "Epoch 15/50\n",
            "13/13 [==============================] - 90s 7s/step - loss: 0.0566 - accuracy: 0.9832 - val_loss: 5.3906 - val_accuracy: 0.3514\n",
            "Epoch 16/50\n",
            "13/13 [==============================] - 80s 6s/step - loss: 0.0538 - accuracy: 0.9792 - val_loss: 2.8469 - val_accuracy: 0.3514\n",
            "Epoch 17/50\n",
            "13/13 [==============================] - 81s 6s/step - loss: 0.0446 - accuracy: 0.9915 - val_loss: 6.3369 - val_accuracy: 0.3514\n",
            "Epoch 18/50\n",
            "13/13 [==============================] - 81s 6s/step - loss: 0.1347 - accuracy: 0.9595 - val_loss: 6.7260 - val_accuracy: 0.3514\n",
            "Epoch 19/50\n",
            "13/13 [==============================] - 80s 6s/step - loss: 0.0616 - accuracy: 0.9740 - val_loss: 1.2579 - val_accuracy: 0.5946\n",
            "Epoch 20/50\n",
            "13/13 [==============================] - 80s 6s/step - loss: 0.1323 - accuracy: 0.9308 - val_loss: 3.2407 - val_accuracy: 0.3604\n",
            "Epoch 21/50\n",
            "13/13 [==============================] - 81s 6s/step - loss: 0.0926 - accuracy: 0.9447 - val_loss: 1.7549 - val_accuracy: 0.5676\n",
            "Epoch 22/50\n",
            "13/13 [==============================] - 80s 6s/step - loss: 0.0772 - accuracy: 0.9567 - val_loss: 3.3432 - val_accuracy: 0.4414\n",
            "Epoch 23/50\n",
            "13/13 [==============================] - 80s 6s/step - loss: 0.0649 - accuracy: 0.9821 - val_loss: 5.4467 - val_accuracy: 0.3604\n",
            "Epoch 24/50\n",
            "13/13 [==============================] - 80s 6s/step - loss: 0.0491 - accuracy: 0.9898 - val_loss: 1.9163 - val_accuracy: 0.5225\n",
            "Epoch 25/50\n",
            "13/13 [==============================] - 81s 6s/step - loss: 0.0773 - accuracy: 0.9605 - val_loss: 2.5095 - val_accuracy: 0.4865\n",
            "Epoch 26/50\n",
            "13/13 [==============================] - 88s 7s/step - loss: 0.0501 - accuracy: 0.9854 - val_loss: 2.2290 - val_accuracy: 0.5586\n",
            "Epoch 27/50\n",
            "13/13 [==============================] - 81s 6s/step - loss: 0.0877 - accuracy: 0.9537 - val_loss: 1.1470 - val_accuracy: 0.6396\n",
            "Epoch 28/50\n",
            "13/13 [==============================] - 81s 6s/step - loss: 0.0396 - accuracy: 0.9790 - val_loss: 2.7147 - val_accuracy: 0.5856\n",
            "Epoch 29/50\n",
            "13/13 [==============================] - 81s 6s/step - loss: 0.0663 - accuracy: 0.9756 - val_loss: 0.9063 - val_accuracy: 0.5946\n",
            "Epoch 30/50\n",
            "13/13 [==============================] - 80s 6s/step - loss: 0.0497 - accuracy: 0.9734 - val_loss: 1.8309 - val_accuracy: 0.5315\n",
            "Epoch 31/50\n",
            "13/13 [==============================] - 80s 6s/step - loss: 0.0494 - accuracy: 0.9858 - val_loss: 1.5487 - val_accuracy: 0.5225\n",
            "Epoch 32/50\n",
            "13/13 [==============================] - 81s 6s/step - loss: 0.0701 - accuracy: 0.9731 - val_loss: 1.7325 - val_accuracy: 0.4505\n",
            "Epoch 33/50\n",
            "13/13 [==============================] - 82s 6s/step - loss: 0.0495 - accuracy: 0.9786 - val_loss: 1.5387 - val_accuracy: 0.4505\n",
            "Epoch 34/50\n",
            "13/13 [==============================] - 81s 6s/step - loss: 0.0259 - accuracy: 0.9945 - val_loss: 2.2063 - val_accuracy: 0.5045\n",
            "Epoch 35/50\n",
            "13/13 [==============================] - 81s 6s/step - loss: 0.0339 - accuracy: 0.9834 - val_loss: 1.7979 - val_accuracy: 0.5495\n",
            "Epoch 36/50\n",
            "13/13 [==============================] - 81s 6s/step - loss: 0.0377 - accuracy: 0.9790 - val_loss: 1.4593 - val_accuracy: 0.5495\n",
            "Epoch 37/50\n",
            "13/13 [==============================] - 81s 6s/step - loss: 0.0691 - accuracy: 0.9806 - val_loss: 1.0128 - val_accuracy: 0.5856\n",
            "Epoch 38/50\n",
            "13/13 [==============================] - 81s 6s/step - loss: 0.0650 - accuracy: 0.9655 - val_loss: 0.5114 - val_accuracy: 0.7838\n",
            "Epoch 39/50\n",
            "13/13 [==============================] - 81s 6s/step - loss: 0.0485 - accuracy: 0.9779 - val_loss: 0.3111 - val_accuracy: 0.9099\n",
            "Epoch 40/50\n",
            "13/13 [==============================] - 81s 6s/step - loss: 0.0392 - accuracy: 0.9764 - val_loss: 0.3682 - val_accuracy: 0.8829\n",
            "Epoch 41/50\n",
            "13/13 [==============================] - 81s 6s/step - loss: 0.0377 - accuracy: 0.9850 - val_loss: 1.1935 - val_accuracy: 0.5766\n",
            "Epoch 42/50\n",
            "13/13 [==============================] - 81s 6s/step - loss: 0.0167 - accuracy: 0.9910 - val_loss: 0.7276 - val_accuracy: 0.7297\n",
            "Epoch 43/50\n",
            "13/13 [==============================] - 82s 6s/step - loss: 0.0348 - accuracy: 0.9861 - val_loss: 0.5248 - val_accuracy: 0.7928\n",
            "Epoch 44/50\n",
            "13/13 [==============================] - 82s 6s/step - loss: 0.0636 - accuracy: 0.9640 - val_loss: 0.4901 - val_accuracy: 0.7658\n",
            "Epoch 45/50\n",
            "13/13 [==============================] - 81s 6s/step - loss: 0.0458 - accuracy: 0.9753 - val_loss: 0.6208 - val_accuracy: 0.8919\n",
            "Epoch 46/50\n",
            "13/13 [==============================] - 81s 6s/step - loss: 0.0677 - accuracy: 0.9600 - val_loss: 2.2032 - val_accuracy: 0.6396\n",
            "Epoch 47/50\n",
            "13/13 [==============================] - 80s 6s/step - loss: 0.0393 - accuracy: 0.9837 - val_loss: 1.1717 - val_accuracy: 0.6937\n",
            "Epoch 48/50\n",
            "13/13 [==============================] - 80s 6s/step - loss: 0.0267 - accuracy: 0.9933 - val_loss: 0.6230 - val_accuracy: 0.7748\n",
            "Epoch 49/50\n",
            "13/13 [==============================] - 81s 6s/step - loss: 0.0255 - accuracy: 0.9874 - val_loss: 1.2618 - val_accuracy: 0.6486\n",
            "Epoch 50/50\n",
            "13/13 [==============================] - 80s 6s/step - loss: 0.0302 - accuracy: 0.9907 - val_loss: 0.3661 - val_accuracy: 0.9099\n"
          ],
          "name": "stdout"
        }
      ]
    },
    {
      "cell_type": "code",
      "metadata": {
        "colab": {
          "base_uri": "https://localhost:8080/"
        },
        "id": "lyP-m9zhiehq",
        "outputId": "02eb870d-3e11-468d-ed30-794061664355"
      },
      "source": [
        "print(\"[INFO] Calculating model accuracy\")\n",
        "scores = model.evaluate(x_test, y_test)\n",
        "print(f\"Test Accuracy: {scores[1]*100}\")"
      ],
      "execution_count": null,
      "outputs": [
        {
          "output_type": "stream",
          "text": [
            "[INFO] Calculating model accuracy\n",
            "4/4 [==============================] - 5s 1s/step - loss: 0.3661 - accuracy: 0.9099\n",
            "Test Accuracy: 90.99099040031433\n"
          ],
          "name": "stdout"
        }
      ]
    },
    {
      "cell_type": "code",
      "metadata": {
        "colab": {
          "base_uri": "https://localhost:8080/"
        },
        "id": "2UCr8wZbiek7",
        "outputId": "f8ff38e7-a8da-4859-e2bc-dcfedbb19d00"
      },
      "source": [
        "print(f\"Test Accuracy: {scores[1]*100}\")"
      ],
      "execution_count": null,
      "outputs": [
        {
          "output_type": "stream",
          "text": [
            "Test Accuracy: 90.99099040031433\n"
          ],
          "name": "stdout"
        }
      ]
    },
    {
      "cell_type": "code",
      "metadata": {
        "id": "mjFvhpU9iemT"
      },
      "source": [
        "model.save('CNN_potato.h5')"
      ],
      "execution_count": null,
      "outputs": []
    },
    {
      "cell_type": "code",
      "metadata": {
        "id": "N83qsQlvieqS"
      },
      "source": [
        ""
      ],
      "execution_count": null,
      "outputs": []
    },
    {
      "cell_type": "code",
      "metadata": {
        "id": "MmLBzHPTierX"
      },
      "source": [
        ""
      ],
      "execution_count": null,
      "outputs": []
    },
    {
      "cell_type": "code",
      "metadata": {
        "id": "NWlLjzPaieuf"
      },
      "source": [
        ""
      ],
      "execution_count": null,
      "outputs": []
    },
    {
      "cell_type": "code",
      "metadata": {
        "id": "T6pOeRrPh4qX"
      },
      "source": [
        ""
      ],
      "execution_count": null,
      "outputs": []
    },
    {
      "cell_type": "code",
      "metadata": {
        "id": "QIDq5b2zh4y1"
      },
      "source": [
        ""
      ],
      "execution_count": null,
      "outputs": []
    }
  ]
}