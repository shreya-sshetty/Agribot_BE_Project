{
  "nbformat": 4,
  "nbformat_minor": 0,
  "metadata": {
    "colab": {
      "name": "tomato_disease.ipynb",
      "provenance": []
    },
    "kernelspec": {
      "name": "python3",
      "display_name": "Python 3"
    }
  },
  "cells": [
    {
      "cell_type": "code",
      "metadata": {
        "colab": {
          "base_uri": "https://localhost:8080/"
        },
        "id": "e0E5o4naYl_5",
        "outputId": "caed4e8e-1a13-44a2-9fc9-80470ebb2a8f"
      },
      "source": [
        "from google.colab import drive\n",
        "drive.mount('/content/drive')"
      ],
      "execution_count": null,
      "outputs": [
        {
          "output_type": "stream",
          "text": [
            "Mounted at /content/drive\n"
          ],
          "name": "stdout"
        }
      ]
    },
    {
      "cell_type": "code",
      "metadata": {
        "colab": {
          "base_uri": "https://localhost:8080/"
        },
        "id": "bRRP8B1SY4TE",
        "outputId": "4cf899f8-6ad0-42d8-f467-ae6a974d231c"
      },
      "source": [
        "cd '/content/drive/My Drive/plant_disease_detection/tomato'"
      ],
      "execution_count": null,
      "outputs": [
        {
          "output_type": "stream",
          "text": [
            "/content/drive/My Drive/plant_disease_detection/tomato\n"
          ],
          "name": "stdout"
        }
      ]
    },
    {
      "cell_type": "code",
      "metadata": {
        "colab": {
          "base_uri": "https://localhost:8080/"
        },
        "id": "VHhfBIrzY4Ut",
        "outputId": "6eb81b9c-97e7-4161-a292-8410509908bd"
      },
      "source": [
        "ls tomatodata/Tomato"
      ],
      "execution_count": null,
      "outputs": [
        {
          "output_type": "stream",
          "text": [
            " \u001b[0m\u001b[01;34mTomato___Bacterial_spot\u001b[0m/   \u001b[01;34mTomato___Septoria_leaf_spot\u001b[0m/\n",
            " \u001b[01;34mTomato___Early_blight\u001b[0m/    \u001b[01;34m'Tomato___Spider_mites Two-spotted_spider_mite'\u001b[0m/\n",
            " \u001b[01;34mTomato___healthy\u001b[0m/          \u001b[01;34mTomato___Target_Spot\u001b[0m/\n",
            " \u001b[01;34mTomato___Late_blight\u001b[0m/      \u001b[01;34mTomato___Tomato_mosaic_virus\u001b[0m/\n",
            " \u001b[01;34mTomato___Leaf_Mold\u001b[0m/        \u001b[01;34mTomato___Tomato_Yellow_Leaf_Curl_Virus\u001b[0m/\n"
          ],
          "name": "stdout"
        }
      ]
    },
    {
      "cell_type": "code",
      "metadata": {
        "id": "C9k5jtSCY4YH"
      },
      "source": [
        "import numpy as np\n",
        "import pickle\n",
        "import cv2\n",
        "from os import listdir\n",
        "from sklearn.preprocessing import LabelBinarizer\n",
        "from keras.models import Sequential\n",
        "from keras.layers.normalization import BatchNormalization\n",
        "from keras.layers.convolutional import Conv2D\n",
        "from keras.layers.convolutional import MaxPooling2D\n",
        "from keras.layers.core import Activation, Flatten, Dropout, Dense\n",
        "from keras import backend as K\n",
        "from keras.preprocessing.image import ImageDataGenerator\n",
        "from keras.optimizers import Adam\n",
        "from keras.preprocessing import image\n",
        "from keras.preprocessing.image import img_to_array\n",
        "from sklearn.preprocessing import MultiLabelBinarizer\n",
        "from sklearn.model_selection import train_test_split\n",
        "import matplotlib.pyplot as plt"
      ],
      "execution_count": null,
      "outputs": []
    },
    {
      "cell_type": "code",
      "metadata": {
        "colab": {
          "base_uri": "https://localhost:8080/"
        },
        "id": "8FM0sLUwY4a4",
        "outputId": "bbe808c1-249a-4e28-ea30-02ec2646ded9"
      },
      "source": [
        "from keras.callbacks import EarlyStopping, ModelCheckpoint\n",
        "early_stop = EarlyStopping(monitor='loss', min_delta=0.001, patience=5, mode='min', verbose=1) \n",
        "checkpoint = ModelCheckpoint('model_best_weights_v2.h5', monitor='loss', verbose=1, save_best_only=True, mode='min', period=1)"
      ],
      "execution_count": null,
      "outputs": [
        {
          "output_type": "stream",
          "text": [
            "WARNING:tensorflow:`period` argument is deprecated. Please use `save_freq` to specify the frequency in number of batches seen.\n"
          ],
          "name": "stdout"
        }
      ]
    },
    {
      "cell_type": "code",
      "metadata": {
        "id": "f6A72VSkY4eg"
      },
      "source": [
        "EPOCHS = 25\n",
        "INIT_LR = 1e-3\n",
        "BS = 32\n",
        "default_image_size = tuple((256, 256))\n",
        "image_size = 0\n",
        "directory_root = 'tomatodata'\n",
        "width=256\n",
        "height=256\n",
        "depth=3"
      ],
      "execution_count": null,
      "outputs": []
    },
    {
      "cell_type": "code",
      "metadata": {
        "id": "USdqyfgtY4gF"
      },
      "source": [
        "def convert_image_to_array(image_dir):\n",
        "    try:\n",
        "        image = cv2.imread(image_dir)\n",
        "        if image is not None :\n",
        "            image = cv2.resize(image, default_image_size)   \n",
        "            return img_to_array(image)\n",
        "        else :\n",
        "            return np.array([])\n",
        "    except Exception as e:\n",
        "        print(f\"Error : {e}\")\n",
        "        return None"
      ],
      "execution_count": null,
      "outputs": []
    },
    {
      "cell_type": "code",
      "metadata": {
        "colab": {
          "base_uri": "https://localhost:8080/"
        },
        "id": "k2xUJ2oKZMTk",
        "outputId": "04e39798-db76-440d-9787-7d44b2f984b0"
      },
      "source": [
        "image_list, label_list = [], []\n",
        "try:\n",
        "    print(\"[INFO] Loading images ...\")\n",
        "    root_dir = listdir(directory_root)\n",
        "    for directory in root_dir :\n",
        "        # remove .DS_Store from list\n",
        "        if directory == \".DS_Store\" :\n",
        "            root_dir.remove(directory)\n",
        " \n",
        "    for plant_folder in root_dir :\n",
        "        plant_disease_folder_list = listdir(f\"{directory_root}/{plant_folder}\")\n",
        "        \n",
        "        for disease_folder in plant_disease_folder_list :\n",
        "            # remove .DS_Store from list\n",
        "            if disease_folder == \".DS_Store\" :\n",
        "                plant_disease_folder_list.remove(disease_folder)\n",
        " \n",
        "        for plant_disease_folder in plant_disease_folder_list:\n",
        "            print(f\"[INFO] Processing {plant_disease_folder} ...\")\n",
        "            plant_disease_image_list = listdir(f\"{directory_root}/{plant_folder}/{plant_disease_folder}/\")\n",
        "                \n",
        "            for single_plant_disease_image in plant_disease_image_list :\n",
        "                if single_plant_disease_image == \".DS_Store\" :\n",
        "                    plant_disease_image_list.remove(single_plant_disease_image)\n",
        " \n",
        "            for image in plant_disease_image_list[:200]:\n",
        "                image_directory = f\"{directory_root}/{plant_folder}/{plant_disease_folder}/{image}\"\n",
        "                if image_directory.endswith(\".jpg\") == True or image_directory.endswith(\".JPG\") == True:\n",
        "                    image_list.append(convert_image_to_array(image_directory))\n",
        "                    label_list.append(plant_disease_folder)\n",
        "    print(\"[INFO] Image loading completed\")  \n",
        "except Exception as e:\n",
        "    print(f\"Error : {e}\")"
      ],
      "execution_count": null,
      "outputs": [
        {
          "output_type": "stream",
          "text": [
            "[INFO] Loading images ...\n",
            "[INFO] Processing Tomato___Spider_mites Two-spotted_spider_mite ...\n",
            "[INFO] Processing Tomato___healthy ...\n",
            "[INFO] Processing Tomato___Tomato_Yellow_Leaf_Curl_Virus ...\n",
            "[INFO] Processing Tomato___Septoria_leaf_spot ...\n",
            "[INFO] Processing Tomato___Tomato_mosaic_virus ...\n",
            "[INFO] Processing Tomato___Target_Spot ...\n",
            "[INFO] Processing Tomato___Bacterial_spot ...\n",
            "[INFO] Processing Tomato___Leaf_Mold ...\n",
            "[INFO] Processing Tomato___Early_blight ...\n",
            "[INFO] Processing Tomato___Late_blight ...\n",
            "[INFO] Image loading completed\n"
          ],
          "name": "stdout"
        }
      ]
    },
    {
      "cell_type": "code",
      "metadata": {
        "id": "hCUrceHBZMWO"
      },
      "source": [
        "image_size = len(image_list)"
      ],
      "execution_count": null,
      "outputs": []
    },
    {
      "cell_type": "code",
      "metadata": {
        "id": "ZzD5B-gcZMZf"
      },
      "source": [
        "label_binarizer = LabelBinarizer()\n",
        "image_labels = label_binarizer.fit_transform(label_list)\n",
        "pickle.dump(label_binarizer,open('label_transform.pkl', 'wb'))\n",
        "n_classes = len(label_binarizer.classes_)"
      ],
      "execution_count": null,
      "outputs": []
    },
    {
      "cell_type": "code",
      "metadata": {
        "colab": {
          "base_uri": "https://localhost:8080/"
        },
        "id": "eBt1-mYaY4jU",
        "outputId": "daa1d8a0-63a3-4c40-8d34-550dd880c9f7"
      },
      "source": [
        "print(label_binarizer.classes_)"
      ],
      "execution_count": null,
      "outputs": [
        {
          "output_type": "stream",
          "text": [
            "['Tomato___Bacterial_spot' 'Tomato___Early_blight' 'Tomato___Late_blight'\n",
            " 'Tomato___Leaf_Mold' 'Tomato___Septoria_leaf_spot'\n",
            " 'Tomato___Spider_mites Two-spotted_spider_mite' 'Tomato___Target_Spot'\n",
            " 'Tomato___Tomato_Yellow_Leaf_Curl_Virus' 'Tomato___Tomato_mosaic_virus'\n",
            " 'Tomato___healthy']\n"
          ],
          "name": "stdout"
        }
      ]
    },
    {
      "cell_type": "code",
      "metadata": {
        "id": "Djx_H3M2Y4lD"
      },
      "source": [
        "np_image_list = np.array(image_list, dtype=np.float16) / 225.0"
      ],
      "execution_count": null,
      "outputs": []
    },
    {
      "cell_type": "code",
      "metadata": {
        "colab": {
          "base_uri": "https://localhost:8080/"
        },
        "id": "IZmKvt9uY4oc",
        "outputId": "0921a498-1db0-4c90-81df-536a76781431"
      },
      "source": [
        "print(\"[INFO] Spliting data to train, test\")\n",
        "x_train, x_test, y_train, y_test = train_test_split(np_image_list, image_labels, test_size=0.2, random_state = 42)"
      ],
      "execution_count": null,
      "outputs": [
        {
          "output_type": "stream",
          "text": [
            "[INFO] Spliting data to train, test\n"
          ],
          "name": "stdout"
        }
      ]
    },
    {
      "cell_type": "code",
      "metadata": {
        "id": "YhICj-r3Y4qA"
      },
      "source": [
        "aug = ImageDataGenerator(\n",
        "    rotation_range=25, width_shift_range=0.1,\n",
        "    height_shift_range=0.1, shear_range=0.2, \n",
        "    zoom_range=0.2,horizontal_flip=True, \n",
        "    fill_mode=\"nearest\")"
      ],
      "execution_count": null,
      "outputs": []
    },
    {
      "cell_type": "code",
      "metadata": {
        "id": "5JrVym-cZnTU"
      },
      "source": [
        "model = Sequential()\n",
        "inputShape = (height, width, depth)\n",
        "chanDim = -1\n",
        "if K.image_data_format() == \"channels_first\":\n",
        "    inputShape = (depth, height, width)\n",
        "    chanDim = 1\n",
        "model.add(Conv2D(32, (3, 3), padding=\"same\",input_shape=inputShape))\n",
        "model.add(Activation(\"relu\"))\n",
        "model.add(BatchNormalization(axis=chanDim))\n",
        "model.add(MaxPooling2D(pool_size=(3, 3)))\n",
        "model.add(Dropout(0.25))\n",
        "model.add(Conv2D(64, (3, 3), padding=\"same\"))\n",
        "model.add(Activation(\"relu\"))\n",
        "model.add(BatchNormalization(axis=chanDim))\n",
        "model.add(Conv2D(64, (3, 3), padding=\"same\"))\n",
        "model.add(Activation(\"relu\"))\n",
        "model.add(BatchNormalization(axis=chanDim))\n",
        "model.add(MaxPooling2D(pool_size=(2, 2)))\n",
        "model.add(Dropout(0.25))\n",
        "model.add(Conv2D(128, (3, 3), padding=\"same\"))\n",
        "model.add(Activation(\"relu\"))\n",
        "model.add(BatchNormalization(axis=chanDim))\n",
        "model.add(Conv2D(128, (3, 3), padding=\"same\"))\n",
        "model.add(Activation(\"relu\"))\n",
        "model.add(BatchNormalization(axis=chanDim))\n",
        "model.add(MaxPooling2D(pool_size=(2, 2)))\n",
        "model.add(Dropout(0.25))\n",
        "model.add(Flatten())\n",
        "model.add(Dense(1024))\n",
        "model.add(Activation(\"relu\"))\n",
        "model.add(BatchNormalization())\n",
        "model.add(Dropout(0.5))\n",
        "model.add(Dense(n_classes))\n",
        "model.add(Activation(\"softmax\"))"
      ],
      "execution_count": null,
      "outputs": []
    },
    {
      "cell_type": "code",
      "metadata": {
        "colab": {
          "base_uri": "https://localhost:8080/"
        },
        "id": "wPU5qGFRZnUn",
        "outputId": "492fc121-a5d4-4090-ae30-424dd0c44b99"
      },
      "source": [
        "model.summary()"
      ],
      "execution_count": null,
      "outputs": [
        {
          "output_type": "stream",
          "text": [
            "Model: \"sequential\"\n",
            "_________________________________________________________________\n",
            "Layer (type)                 Output Shape              Param #   \n",
            "=================================================================\n",
            "conv2d (Conv2D)              (None, 256, 256, 32)      896       \n",
            "_________________________________________________________________\n",
            "activation (Activation)      (None, 256, 256, 32)      0         \n",
            "_________________________________________________________________\n",
            "batch_normalization (BatchNo (None, 256, 256, 32)      128       \n",
            "_________________________________________________________________\n",
            "max_pooling2d (MaxPooling2D) (None, 85, 85, 32)        0         \n",
            "_________________________________________________________________\n",
            "dropout (Dropout)            (None, 85, 85, 32)        0         \n",
            "_________________________________________________________________\n",
            "conv2d_1 (Conv2D)            (None, 85, 85, 64)        18496     \n",
            "_________________________________________________________________\n",
            "activation_1 (Activation)    (None, 85, 85, 64)        0         \n",
            "_________________________________________________________________\n",
            "batch_normalization_1 (Batch (None, 85, 85, 64)        256       \n",
            "_________________________________________________________________\n",
            "conv2d_2 (Conv2D)            (None, 85, 85, 64)        36928     \n",
            "_________________________________________________________________\n",
            "activation_2 (Activation)    (None, 85, 85, 64)        0         \n",
            "_________________________________________________________________\n",
            "batch_normalization_2 (Batch (None, 85, 85, 64)        256       \n",
            "_________________________________________________________________\n",
            "max_pooling2d_1 (MaxPooling2 (None, 42, 42, 64)        0         \n",
            "_________________________________________________________________\n",
            "dropout_1 (Dropout)          (None, 42, 42, 64)        0         \n",
            "_________________________________________________________________\n",
            "conv2d_3 (Conv2D)            (None, 42, 42, 128)       73856     \n",
            "_________________________________________________________________\n",
            "activation_3 (Activation)    (None, 42, 42, 128)       0         \n",
            "_________________________________________________________________\n",
            "batch_normalization_3 (Batch (None, 42, 42, 128)       512       \n",
            "_________________________________________________________________\n",
            "conv2d_4 (Conv2D)            (None, 42, 42, 128)       147584    \n",
            "_________________________________________________________________\n",
            "activation_4 (Activation)    (None, 42, 42, 128)       0         \n",
            "_________________________________________________________________\n",
            "batch_normalization_4 (Batch (None, 42, 42, 128)       512       \n",
            "_________________________________________________________________\n",
            "max_pooling2d_2 (MaxPooling2 (None, 21, 21, 128)       0         \n",
            "_________________________________________________________________\n",
            "dropout_2 (Dropout)          (None, 21, 21, 128)       0         \n",
            "_________________________________________________________________\n",
            "flatten (Flatten)            (None, 56448)             0         \n",
            "_________________________________________________________________\n",
            "dense (Dense)                (None, 1024)              57803776  \n",
            "_________________________________________________________________\n",
            "activation_5 (Activation)    (None, 1024)              0         \n",
            "_________________________________________________________________\n",
            "batch_normalization_5 (Batch (None, 1024)              4096      \n",
            "_________________________________________________________________\n",
            "dropout_3 (Dropout)          (None, 1024)              0         \n",
            "_________________________________________________________________\n",
            "dense_1 (Dense)              (None, 10)                10250     \n",
            "_________________________________________________________________\n",
            "activation_6 (Activation)    (None, 10)                0         \n",
            "=================================================================\n",
            "Total params: 58,097,546\n",
            "Trainable params: 58,094,666\n",
            "Non-trainable params: 2,880\n",
            "_________________________________________________________________\n"
          ],
          "name": "stdout"
        }
      ]
    },
    {
      "cell_type": "code",
      "metadata": {
        "colab": {
          "base_uri": "https://localhost:8080/"
        },
        "id": "fnCe7YUoZnYs",
        "outputId": "1584dc8a-0103-4de6-bf81-eb039001ba34"
      },
      "source": [
        "opt = Adam(lr=INIT_LR, decay=INIT_LR / EPOCHS)\n",
        "# distribution\n",
        "model.compile(loss=\"binary_crossentropy\", optimizer=opt,metrics=[\"accuracy\"])\n",
        "# train the network\n",
        "print(\"[INFO] training network...\")"
      ],
      "execution_count": null,
      "outputs": [
        {
          "output_type": "stream",
          "text": [
            "[INFO] training network...\n"
          ],
          "name": "stdout"
        }
      ]
    },
    {
      "cell_type": "code",
      "metadata": {
        "colab": {
          "base_uri": "https://localhost:8080/"
        },
        "id": "M6YkqX0pZnhp",
        "outputId": "a2b4ad4a-9598-4104-a2d3-4472347fae4a"
      },
      "source": [
        "history = model.fit_generator(\n",
        "    aug.flow(x_train, y_train, batch_size=BS),\n",
        "    validation_data=(x_test, y_test),\n",
        "    steps_per_epoch=len(x_train) // BS,\n",
        "    epochs=50, verbose=1\n",
        "    )"
      ],
      "execution_count": null,
      "outputs": [
        {
          "output_type": "stream",
          "text": [
            "/usr/local/lib/python3.7/dist-packages/tensorflow/python/keras/engine/training.py:1844: UserWarning: `Model.fit_generator` is deprecated and will be removed in a future version. Please use `Model.fit`, which supports generators.\n",
            "  warnings.warn('`Model.fit_generator` is deprecated and '\n"
          ],
          "name": "stderr"
        },
        {
          "output_type": "stream",
          "text": [
            "Epoch 1/50\n",
            "50/50 [==============================] - 337s 7s/step - loss: 0.7980 - accuracy: 0.2931 - val_loss: 1.2482 - val_accuracy: 0.1050\n",
            "Epoch 2/50\n",
            "50/50 [==============================] - 328s 7s/step - loss: 0.3921 - accuracy: 0.4739 - val_loss: 1.1344 - val_accuracy: 0.0825\n",
            "Epoch 3/50\n",
            "50/50 [==============================] - 333s 7s/step - loss: 0.2309 - accuracy: 0.5871 - val_loss: 2.6531 - val_accuracy: 0.0900\n",
            "Epoch 4/50\n",
            "50/50 [==============================] - 330s 7s/step - loss: 0.2231 - accuracy: 0.6380 - val_loss: 1.0122 - val_accuracy: 0.1225\n",
            "Epoch 5/50\n",
            "50/50 [==============================] - 328s 7s/step - loss: 0.2094 - accuracy: 0.6609 - val_loss: 0.9218 - val_accuracy: 0.2125\n",
            "Epoch 6/50\n",
            "50/50 [==============================] - 331s 7s/step - loss: 0.1735 - accuracy: 0.7279 - val_loss: 1.0563 - val_accuracy: 0.2450\n",
            "Epoch 7/50\n",
            "50/50 [==============================] - 335s 7s/step - loss: 0.1494 - accuracy: 0.7502 - val_loss: 0.9276 - val_accuracy: 0.2475\n",
            "Epoch 8/50\n",
            "50/50 [==============================] - 323s 6s/step - loss: 0.1554 - accuracy: 0.7436 - val_loss: 0.9035 - val_accuracy: 0.2700\n",
            "Epoch 9/50\n",
            "50/50 [==============================] - 329s 7s/step - loss: 0.1324 - accuracy: 0.7847 - val_loss: 0.3585 - val_accuracy: 0.4450\n",
            "Epoch 10/50\n",
            "50/50 [==============================] - 330s 7s/step - loss: 0.1247 - accuracy: 0.8010 - val_loss: 0.4564 - val_accuracy: 0.4300\n",
            "Epoch 11/50\n",
            "50/50 [==============================] - 330s 7s/step - loss: 0.1130 - accuracy: 0.8171 - val_loss: 0.2171 - val_accuracy: 0.6400\n",
            "Epoch 12/50\n",
            "50/50 [==============================] - 325s 6s/step - loss: 0.1045 - accuracy: 0.8376 - val_loss: 0.3375 - val_accuracy: 0.5375\n",
            "Epoch 13/50\n",
            "50/50 [==============================] - 323s 6s/step - loss: 0.1156 - accuracy: 0.8047 - val_loss: 0.4423 - val_accuracy: 0.4975\n",
            "Epoch 14/50\n",
            "50/50 [==============================] - 323s 6s/step - loss: 0.0942 - accuracy: 0.8591 - val_loss: 0.1987 - val_accuracy: 0.6975\n",
            "Epoch 15/50\n",
            "50/50 [==============================] - 326s 7s/step - loss: 0.0972 - accuracy: 0.8253 - val_loss: 0.8479 - val_accuracy: 0.3775\n",
            "Epoch 16/50\n",
            "50/50 [==============================] - 327s 7s/step - loss: 0.0883 - accuracy: 0.8607 - val_loss: 0.7868 - val_accuracy: 0.4150\n",
            "Epoch 17/50\n",
            "50/50 [==============================] - 332s 7s/step - loss: 0.0946 - accuracy: 0.8579 - val_loss: 0.3433 - val_accuracy: 0.6275\n",
            "Epoch 18/50\n",
            "50/50 [==============================] - 329s 7s/step - loss: 0.0878 - accuracy: 0.8564 - val_loss: 0.3193 - val_accuracy: 0.5750\n",
            "Epoch 19/50\n",
            "50/50 [==============================] - 326s 7s/step - loss: 0.0901 - accuracy: 0.8551 - val_loss: 0.2754 - val_accuracy: 0.5900\n",
            "Epoch 20/50\n",
            "50/50 [==============================] - 321s 6s/step - loss: 0.0714 - accuracy: 0.8948 - val_loss: 0.2649 - val_accuracy: 0.6050\n",
            "Epoch 21/50\n",
            "50/50 [==============================] - 320s 6s/step - loss: 0.0708 - accuracy: 0.8854 - val_loss: 0.2171 - val_accuracy: 0.6825\n",
            "Epoch 22/50\n",
            "50/50 [==============================] - 320s 6s/step - loss: 0.0686 - accuracy: 0.8990 - val_loss: 0.2964 - val_accuracy: 0.6625\n",
            "Epoch 23/50\n",
            "50/50 [==============================] - 319s 6s/step - loss: 0.0750 - accuracy: 0.8846 - val_loss: 0.2690 - val_accuracy: 0.6350\n",
            "Epoch 24/50\n",
            "50/50 [==============================] - 319s 6s/step - loss: 0.0636 - accuracy: 0.9024 - val_loss: 0.2785 - val_accuracy: 0.6550\n",
            "Epoch 25/50\n",
            "50/50 [==============================] - 321s 6s/step - loss: 0.0635 - accuracy: 0.9037 - val_loss: 0.1693 - val_accuracy: 0.7500\n",
            "Epoch 26/50\n",
            "50/50 [==============================] - 320s 6s/step - loss: 0.0592 - accuracy: 0.9237 - val_loss: 0.5869 - val_accuracy: 0.4975\n",
            "Epoch 27/50\n",
            "50/50 [==============================] - 319s 6s/step - loss: 0.0655 - accuracy: 0.9031 - val_loss: 0.3466 - val_accuracy: 0.6575\n",
            "Epoch 28/50\n",
            "50/50 [==============================] - 320s 6s/step - loss: 0.0773 - accuracy: 0.8682 - val_loss: 0.3033 - val_accuracy: 0.6300\n",
            "Epoch 29/50\n",
            "50/50 [==============================] - 318s 6s/step - loss: 0.0658 - accuracy: 0.8970 - val_loss: 0.2349 - val_accuracy: 0.7550\n",
            "Epoch 30/50\n",
            "50/50 [==============================] - 317s 6s/step - loss: 0.0611 - accuracy: 0.9206 - val_loss: 1.3284 - val_accuracy: 0.2975\n",
            "Epoch 31/50\n",
            "50/50 [==============================] - 318s 6s/step - loss: 0.0995 - accuracy: 0.8529 - val_loss: 1.2894 - val_accuracy: 0.3700\n",
            "Epoch 32/50\n",
            "50/50 [==============================] - 315s 6s/step - loss: 0.0644 - accuracy: 0.9022 - val_loss: 0.2087 - val_accuracy: 0.7875\n",
            "Epoch 33/50\n",
            "50/50 [==============================] - 317s 6s/step - loss: 0.0715 - accuracy: 0.8944 - val_loss: 0.7512 - val_accuracy: 0.4650\n",
            "Epoch 34/50\n",
            "50/50 [==============================] - 321s 6s/step - loss: 0.0600 - accuracy: 0.9122 - val_loss: 0.4707 - val_accuracy: 0.6025\n",
            "Epoch 35/50\n",
            "50/50 [==============================] - 321s 6s/step - loss: 0.0587 - accuracy: 0.9173 - val_loss: 0.5958 - val_accuracy: 0.4000\n",
            "Epoch 36/50\n",
            "50/50 [==============================] - 319s 6s/step - loss: 0.0732 - accuracy: 0.9011 - val_loss: 1.9356 - val_accuracy: 0.2150\n",
            "Epoch 37/50\n",
            "50/50 [==============================] - 319s 6s/step - loss: 0.0614 - accuracy: 0.9101 - val_loss: 1.0231 - val_accuracy: 0.3200\n",
            "Epoch 38/50\n",
            "50/50 [==============================] - 315s 6s/step - loss: 0.0713 - accuracy: 0.8940 - val_loss: 0.2497 - val_accuracy: 0.6500\n",
            "Epoch 39/50\n",
            "50/50 [==============================] - 314s 6s/step - loss: 0.0658 - accuracy: 0.9056 - val_loss: 0.1922 - val_accuracy: 0.7650\n",
            "Epoch 40/50\n",
            "50/50 [==============================] - 314s 6s/step - loss: 0.0479 - accuracy: 0.9344 - val_loss: 0.6101 - val_accuracy: 0.5175\n",
            "Epoch 41/50\n",
            "50/50 [==============================] - 315s 6s/step - loss: 0.0476 - accuracy: 0.9281 - val_loss: 0.4335 - val_accuracy: 0.7825\n",
            "Epoch 42/50\n",
            "50/50 [==============================] - 313s 6s/step - loss: 0.0619 - accuracy: 0.9213 - val_loss: 0.5159 - val_accuracy: 0.5925\n",
            "Epoch 43/50\n",
            "50/50 [==============================] - 314s 6s/step - loss: 0.0477 - accuracy: 0.9372 - val_loss: 0.4270 - val_accuracy: 0.6250\n",
            "Epoch 44/50\n",
            "50/50 [==============================] - 315s 6s/step - loss: 0.0578 - accuracy: 0.9142 - val_loss: 0.1784 - val_accuracy: 0.8050\n",
            "Epoch 45/50\n",
            "50/50 [==============================] - 313s 6s/step - loss: 0.0504 - accuracy: 0.9258 - val_loss: 0.3370 - val_accuracy: 0.6025\n",
            "Epoch 46/50\n",
            "50/50 [==============================] - 315s 6s/step - loss: 0.0659 - accuracy: 0.9040 - val_loss: 0.2421 - val_accuracy: 0.7025\n",
            "Epoch 47/50\n",
            "50/50 [==============================] - 315s 6s/step - loss: 0.0541 - accuracy: 0.9280 - val_loss: 0.1514 - val_accuracy: 0.8050\n",
            "Epoch 48/50\n",
            "50/50 [==============================] - 313s 6s/step - loss: 0.0436 - accuracy: 0.9388 - val_loss: 0.1947 - val_accuracy: 0.7725\n",
            "Epoch 49/50\n",
            "50/50 [==============================] - 312s 6s/step - loss: 0.0437 - accuracy: 0.9438 - val_loss: 0.1829 - val_accuracy: 0.8100\n",
            "Epoch 50/50\n",
            "50/50 [==============================] - 313s 6s/step - loss: 0.0440 - accuracy: 0.9400 - val_loss: 0.3104 - val_accuracy: 0.7050\n"
          ],
          "name": "stdout"
        }
      ]
    },
    {
      "cell_type": "code",
      "metadata": {
        "colab": {
          "base_uri": "https://localhost:8080/"
        },
        "id": "NIxumpq-Y4tc",
        "outputId": "b2dcbc8c-ad4c-4e00-8846-c87c3fbfeb7a"
      },
      "source": [
        "print(\"[INFO] Calculating model accuracy\")\n",
        "scores = model.evaluate(x_test, y_test)\n",
        "print(f\"Test Accuracy: {scores[1]*100}\")"
      ],
      "execution_count": null,
      "outputs": [
        {
          "output_type": "stream",
          "text": [
            "[INFO] Calculating model accuracy\n",
            "13/13 [==============================] - 17s 1s/step - loss: 0.3104 - accuracy: 0.7050\n",
            "Test Accuracy: 70.49999833106995\n"
          ],
          "name": "stdout"
        }
      ]
    },
    {
      "cell_type": "code",
      "metadata": {
        "colab": {
          "base_uri": "https://localhost:8080/"
        },
        "id": "mwO4OJjxY4u5",
        "outputId": "fa74369b-4e34-4bc1-f78e-3cfb8cb95aa7"
      },
      "source": [
        "print(f\"Test Accuracy: {scores[1]*100}\")"
      ],
      "execution_count": null,
      "outputs": [
        {
          "output_type": "stream",
          "text": [
            "Test Accuracy: 70.49999833106995\n"
          ],
          "name": "stdout"
        }
      ]
    },
    {
      "cell_type": "code",
      "metadata": {
        "id": "XrzuWGaqY4yM"
      },
      "source": [
        "model.save('CNN_tomato.h5')"
      ],
      "execution_count": null,
      "outputs": []
    },
    {
      "cell_type": "code",
      "metadata": {
        "id": "a5Gm1n-dY408"
      },
      "source": [
        ""
      ],
      "execution_count": null,
      "outputs": []
    }
  ]
}